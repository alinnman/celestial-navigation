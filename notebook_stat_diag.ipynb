{
 "cells": [
  {
   "cell_type": "markdown",
   "metadata": {},
   "source": [
    "This is a sample for celestial navigation for a stationary observer<br>\n",
    "© August Linnman, 2025, email: august@linnman.net<br>\n",
    "MIT License (see [LICENSE file](LICENSE))\n",
    "\n",
    "Jupyter notebook for stationary observation. <br>\n",
    "Producing diagnostics output for showing the intersection algorithm workings. \n"
   ]
  },
  {
   "cell_type": "code",
   "execution_count": 1,
   "metadata": {},
   "outputs": [],
   "source": [
    "# Importing Python libraries\n",
    "from time import time\n",
    "from starfix import Sight, SightCollection, get_representation, get_google_map_string, LatLon, IntersectError, LatLonGeodetic,\\\n",
    "                    Circle\n",
    "from IPython.display import Markdown, display\n",
    "\n",
    "THE_POS = LatLonGeodetic (42, -88)"
   ]
  },
  {
   "cell_type": "code",
   "execution_count": 2,
   "metadata": {},
   "outputs": [],
   "source": [
    "# SIGHT NR 1. \n",
    "\n",
    "a = Sight (   object_name          = \"Sun\",\n",
    "              set_time             = \"2024-05-05 15:55:18+00:00\",\n",
    "              measured_alt         = \"55:8:1.8\",\n",
    "              estimated_position   = THE_POS\n",
    "              )\n",
    "\n",
    "\n"
   ]
  },
  {
   "cell_type": "code",
   "execution_count": 3,
   "metadata": {},
   "outputs": [],
   "source": [
    "# SIGHT NR 2.\n",
    "\n",
    "b = Sight (   object_name          = \"Sun\",\n",
    "              set_time             = \"2024-05-05 23:01:19+00:00\",\n",
    "              measured_alt         = \"19:28:18\",\n",
    "              estimated_position   = THE_POS\n",
    "              )"
   ]
  },
  {
   "cell_type": "code",
   "execution_count": 4,
   "metadata": {},
   "outputs": [],
   "source": [
    "# SIGHT NR 3. \n",
    "\n",
    "c = Sight (   object_name          = \"Vega\",\n",
    "              set_time             = \"2024-05-06 04:04:13+00:00\",\n",
    "              measured_alt         = \"30:16:24.6\",\n",
    "              estimated_position   = THE_POS\n",
    "              )"
   ]
  },
  {
   "cell_type": "code",
   "execution_count": null,
   "metadata": {},
   "outputs": [],
   "source": [
    "# SIGHT REDUCTION.\n",
    "\n",
    "collection = SightCollection ([a, b, c])\n",
    "intersections = the_map = None\n",
    "try:\n",
    "    intersections, _, diag_output = collection.get_intersections (estimated_position=THE_POS, diagnostics = True, return_geodetic=True)\n",
    "    display (Markdown(diag_output))\n",
    "    print (get_representation(intersections,1))\n",
    "    print (\"GM = \" + get_google_map_string(intersections,4))\n",
    "    assert isinstance (intersections, LatLon)\n",
    "    int_circle = Circle (intersections, 0.01)\n",
    "except IntersectError as ve:\n",
    "    print (\"Cannot perform a sight reduction. Bad sight data.\\n\" + str(ve))\n",
    "    print (\"Check the circles! \" + collection.get_map_developers_string(geodetic=True))    \n",
    "\n",
    "if isinstance (intersections, tuple):\n",
    "    intersections = None\n",
    "\n",
    "if collection is not None:\n",
    "    the_map = collection.render_folium (intersections)\n",
    "the_map"
   ]
  }
 ],
 "metadata": {
  "kernelspec": {
   "display_name": "base",
   "language": "python",
   "name": "python3"
  },
  "language_info": {
   "codemirror_mode": {
    "name": "ipython",
    "version": 3
   },
   "file_extension": ".py",
   "mimetype": "text/x-python",
   "name": "python",
   "nbconvert_exporter": "python",
   "pygments_lexer": "ipython3",
   "version": "3.11.11"
  }
 },
 "nbformat": 4,
 "nbformat_minor": 2
}
