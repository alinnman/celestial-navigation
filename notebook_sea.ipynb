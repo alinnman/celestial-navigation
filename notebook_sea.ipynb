{
 "cells": [
  {
   "cell_type": "markdown",
   "metadata": {},
   "source": [
    "This is a sample for celestial navigation for a stationary observer<br>\n",
    "© August Linnman, 2025, email: august@linnman.net<br>\n",
    "MIT License (see [LICENSE file](LICENSE))\n",
    "\n",
    "Jupyter notebook for navigation on a moving ship/vehicle. "
   ]
  },
  {
   "cell_type": "code",
   "execution_count": 16,
   "metadata": {},
   "outputs": [],
   "source": [
    "# Importing Python libraries\n",
    "from time import time\n",
    "from starfix import Sight, SightTrip, get_representation, LatLonGeodetic,\\\n",
    "                    IntersectError"
   ]
  },
  {
   "cell_type": "code",
   "execution_count": null,
   "metadata": {},
   "outputs": [],
   "source": [
    "# Input form\n",
    "import ipywidgets as widgets\n",
    "from ipywidgets import VBox\n",
    "import json\n",
    "\n",
    "file_name = \"notebook-sea-dict.json\"\n",
    "\n",
    "try:\n",
    "    with open(file_name, \"r\") as f:\n",
    "        s = f.read ()\n",
    "        numDict = json.loads (s)\n",
    "except FileNotFoundError:\n",
    "    numDict = {\"ObjectName1\" : \"Sun\",\n",
    "               \"Altitude1\" : \"30:51:27.1\",\n",
    "               \"Time1\" : \"2024-06-20 06:14:38+00:00\",\n",
    "               \n",
    "               \"ObjectName2\" : \"Sun\",\n",
    "               \"Altitude2\" : \"38:34:21.6\",\n",
    "               \"Time2\" : \"2024-06-20 07:14:38+00:00\",\n",
    "\n",
    "               \"Course\" : \"175\",\n",
    "               \"Speed\"  : \"20\",\n",
    "               \n",
    "               \"DrpLat\" : \"59\",\n",
    "               \"DrpLon\" : \"18\"}\n",
    "\n",
    "def dump_dict ():\n",
    "    jDump = json.dumps (numDict)\n",
    "    with open(file_name, \"w\") as f:\n",
    "        f.write(jDump)    \n",
    "\n",
    "def handle_change (change):\n",
    "    if change['type'] == 'change' and change['name'] == 'value':\n",
    "        the_owner = change['owner']\n",
    "        assert isinstance (the_owner, TextWidget)\n",
    "        the_owner.handle_event (change)\n",
    "\n",
    "class TextWidget (widgets.Text):\n",
    "\n",
    "    def __init__ (self, attrName, description):\n",
    "        self.__attrName = attrName\n",
    "        super().__init__ (numDict[self.__attrName], description=description, disabled=False)\n",
    "        self.observe (handle_change)\n",
    "\n",
    "    def handle_event (self, change):\n",
    "        numDict[self.__attrName] =change['new']\n",
    "        dump_dict ()\n",
    "\n",
    "widget_array = []\n",
    "typeArray = [\"ObjectName\", \"Altitude\", \"Time\"]\n",
    "labelArray = [\"NAME\", \"ALT\", \"TIME\"]\n",
    "widget_array.append (TextWidget (\"DrpLat\",\"DRP_LAT\"))\n",
    "widget_array.append (TextWidget (\"DrpLon\",\"DRP_LON\"))\n",
    "for i in range (2):\n",
    "    for j in range (3):\n",
    "        widget_array.append (TextWidget (typeArray[j]+str(i+1),\n",
    "                                         description=labelArray[j]+\"_\"+str(i+1)))\n",
    "widget_array.append (TextWidget (\"Course\",\"COURSE\"))\n",
    "widget_array.append (TextWidget (\"Speed\",\"SPEED\"))       \n",
    "\n",
    "VBox (widget_array)"
   ]
  },
  {
   "cell_type": "code",
   "execution_count": 18,
   "metadata": {},
   "outputs": [],
   "source": [
    "# Estimated (DR) position at start\n",
    "s1LatLon = LatLonGeodetic (float(numDict[\"DrpLat\"]), float(numDict[\"DrpLon\"]))\n",
    "# Estimated course and speed\n",
    "C_COURSE = float(numDict[\"Course\"])\n",
    "SPEED = float(numDict[\"Speed\"])\n",
    "\n",
    "#This is the star fix for s1, the starting point\n",
    "\n",
    "Sight.set_estimated_position (s1LatLon)\n",
    "\n",
    "s1 = Sight (  object_name          = numDict[\"ObjectName1\"],\n",
    "              set_time             = numDict[\"Time1\"],\n",
    "              measured_alt         = numDict[\"Altitude1\"]\n",
    "              )"
   ]
  },
  {
   "cell_type": "code",
   "execution_count": 19,
   "metadata": {},
   "outputs": [],
   "source": [
    "# Star fix for ending point\n",
    "\n",
    "s2 = Sight (  object_name          = numDict[\"ObjectName2\"],\n",
    "              set_time             = numDict[\"Time2\"],\n",
    "              measured_alt         = numDict[\"Altitude2\"]\n",
    "              )"
   ]
  },
  {
   "cell_type": "code",
   "execution_count": null,
   "metadata": {},
   "outputs": [],
   "source": [
    "# Sight reduction\n",
    "\n",
    "st = SightTrip (sight_start               = s1,\\\n",
    "                 sight_end                = s2,\\\n",
    "                 estimated_starting_point = s1LatLon,\\\n",
    "                 course_degrees           = C_COURSE,\\\n",
    "                 speed_knots              = SPEED)\n",
    "m = None\n",
    "try:\n",
    "    intersections, _, _ = st.get_intersections (return_geodetic=True)\n",
    "    assert isinstance (intersections, tuple)\n",
    "    print (\"Starting point = \" + str(get_representation(intersections[1],1)))\n",
    "    print (\"End point = \" + str(get_representation(intersections[0],1)))\n",
    "    m = st.render_folium(intersections)\n",
    "except IntersectError as ve:\n",
    "    print (\"Cannot perform a sight reduction. Bad sight data.\\n\" + str(ve)) \n",
    "m"
   ]
  }
 ],
 "metadata": {
  "kernelspec": {
   "display_name": "base",
   "language": "python",
   "name": "python3"
  },
  "language_info": {
   "codemirror_mode": {
    "name": "ipython",
    "version": 3
   },
   "file_extension": ".py",
   "mimetype": "text/x-python",
   "name": "python",
   "nbconvert_exporter": "python",
   "pygments_lexer": "ipython3",
   "version": "3.11.11"
  }
 },
 "nbformat": 4,
 "nbformat_minor": 2
}
