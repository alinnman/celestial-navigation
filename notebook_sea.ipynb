{
 "cells": [
  {
   "cell_type": "markdown",
   "metadata": {},
   "source": [
    "This is a sample for celestial navigation for a stationary observer<br>\n",
    "© August Linnman, 2025, email: august@linnman.net<br>\n",
    "MIT License (see [LICENSE file](LICENSE))\n",
    "\n",
    "Jupyter notebook for navigation on a moving ship/vehicle. "
   ]
  },
  {
   "cell_type": "code",
   "execution_count": 1,
   "metadata": {},
   "outputs": [],
   "source": [
    "# Importing Python libraries\n",
    "from time import time\n",
    "from starfix import Sight, SightTrip, get_representation, LatLonGeodetic,\\\n",
    "                    IntersectError"
   ]
  },
  {
   "cell_type": "code",
   "execution_count": 2,
   "metadata": {},
   "outputs": [],
   "source": [
    "# Estimated (DR) position at start\n",
    "s1LatLon = LatLonGeodetic (59, 18)\n",
    "# Estimated course and speed\n",
    "C_COURSE = 175\n",
    "SPEED = 20\n",
    "\n",
    "#This is the star fix for s1, the starting point\n",
    "\n",
    "Sight.set_estimated_position (s1LatLon)\n",
    "\n",
    "s1 = Sight (  object_name          = \"Sun\",\n",
    "              set_time             = \"2024-06-20 06:14:38+00:00\",\n",
    "              measured_alt         = \"30:51:27.1\"\n",
    "              )"
   ]
  },
  {
   "cell_type": "code",
   "execution_count": 3,
   "metadata": {},
   "outputs": [],
   "source": [
    "# Star fix for ending point\n",
    "\n",
    "s2 = Sight (  object_name          = \"Sun\",\n",
    "              set_time             = \"2024-06-20 07:14:38+00:00\",\n",
    "              measured_alt         = \"38:34:21.6\"\n",
    "              )"
   ]
  },
  {
   "cell_type": "code",
   "execution_count": null,
   "metadata": {},
   "outputs": [],
   "source": [
    "# Sight reduction\n",
    "\n",
    "st = SightTrip (sight_start               = s1,\\\n",
    "                 sight_end                = s2,\\\n",
    "                 estimated_starting_point = s1LatLon,\\\n",
    "                 course_degrees           = C_COURSE,\\\n",
    "                 speed_knots              = SPEED)\n",
    "m = None\n",
    "try:\n",
    "    intersections, _, _ = st.get_intersections (return_geodetic=True)\n",
    "    assert isinstance (intersections, tuple)\n",
    "    print (\"Starting point = \" + str(get_representation(intersections[1],1)))\n",
    "    print (\"End point = \" + str(get_representation(intersections[0],1)))\n",
    "    m = st.render_folium(intersections)\n",
    "except IntersectError as ve:\n",
    "    print (\"Cannot perform a sight reduction. Bad sight data.\\n\" + str(ve)) \n",
    "m"
   ]
  }
 ],
 "metadata": {
  "kernelspec": {
   "display_name": "base",
   "language": "python",
   "name": "python3"
  },
  "language_info": {
   "codemirror_mode": {
    "name": "ipython",
    "version": 3
   },
   "file_extension": ".py",
   "mimetype": "text/x-python",
   "name": "python",
   "nbconvert_exporter": "python",
   "pygments_lexer": "ipython3",
   "version": "3.11.11"
  }
 },
 "nbformat": 4,
 "nbformat_minor": 2
}
