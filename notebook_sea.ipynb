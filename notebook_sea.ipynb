{
 "cells": [
  {
   "cell_type": "code",
   "execution_count": 1,
   "metadata": {},
   "outputs": [],
   "source": [
    "''' This is a sample for celestial navigation for a stationary observer \n",
    "    © August Linnman, 2024, email: august@linnman.net\n",
    "    MIT License (see LICENSE file)\n",
    "\n",
    "    Jupyter notebook for navigation on a moving ship/vehicle. \n",
    "'''\n",
    "\n",
    "# Importing Python libraries\n",
    "from time import time\n",
    "from starfix import Sight, SightTrip, get_representation, LatLonGeodetic,\\\n",
    "                    IntersectError"
   ]
  },
  {
   "cell_type": "code",
   "execution_count": 2,
   "metadata": {},
   "outputs": [],
   "source": [
    "# Estimated (DR) position at start\n",
    "s1LatLon = LatLonGeodetic (59, 18)\n",
    "# Estimated course and speed\n",
    "C_COURSE = 175\n",
    "SPEED = 20\n",
    "\n",
    "#This is the star fix for s1, the starting point\n",
    "\n",
    "s1 = Sight (  object_name          = \"Sun\", \\\n",
    "              set_time             = \"2024-06-20 06:14:38+00:00\", \\\n",
    "              gha_time_0           = \"269:35.2\", \\\n",
    "              gha_time_1           = \"284:35.1\", \\\n",
    "              decl_time_0          = \"23:26.2\", \\\n",
    "              measured_alt         = \"30:51:27.1\" \\\n",
    "              )"
   ]
  },
  {
   "cell_type": "code",
   "execution_count": 3,
   "metadata": {},
   "outputs": [],
   "source": [
    "# Star fix for ending point\n",
    "\n",
    "s2 = Sight (  object_name          = \"Sun\", \\\n",
    "              set_time             = \"2024-06-20 07:14:38+00:00\", \\\n",
    "              gha_time_0           = \"284:35.1\", \\\n",
    "              gha_time_1           = \"299:35.0\", \\\n",
    "              decl_time_0          = \"23:26.2\", \\\n",
    "              measured_alt         = \"38:34:21.6\" \\\n",
    "              )"
   ]
  },
  {
   "cell_type": "code",
   "execution_count": 4,
   "metadata": {},
   "outputs": [
    {
     "name": "stdout",
     "output_type": "stream",
     "text": [
      "MD = https://www.mapdevelopers.com/draw-circle-tool.php?circles=%5B%5B6576360%2C23.574892%2C86.755406%2C%22%23AAAAAA%22%2C%22%23000000%22%2C0.4%5D%2C%5B5720821%2C23.574892%2C71.757073%2C%22%23AAAAAA%22%2C%22%23000000%22%2C0.4%5D%2C%5B1856%2C58.935428%2C18.002331%2C%22%23AAAAAA%22%2C%22%23000000%22%2C0.4%5D%2C%5B1856%2C58.60437%2C18.058362%2C%22%23AAAAAA%22%2C%22%23000000%22%2C0.4%5D%5D\n",
      "Starting point = (Geodetic) (N 58°,56.1′;E 18°,0.1′)\n",
      "End point = (Geodetic) (N 58°,36.3′;E 18°,3.5′)\n"
     ]
    }
   ],
   "source": [
    "# Sight reduction\n",
    "\n",
    "st = SightTrip (sight_start               = s1,\\\n",
    "                 sight_end                = s2,\\\n",
    "                 estimated_starting_point = s1LatLon,\\\n",
    "                 course_degrees           = C_COURSE,\\\n",
    "                 speed_knots              = SPEED)\n",
    "try:\n",
    "    intersections, _, _ = st.get_intersections (return_geodetic=True)\n",
    "    print (\"MD = \" + st.get_map_developers_string ())\n",
    "    assert isinstance (intersections, tuple)\n",
    "    print (\"Starting point = \" + str(get_representation(intersections[1],1)))\n",
    "    print (\"End point = \" + str(get_representation(intersections[0],1)))\n",
    "except IntersectError as ve:\n",
    "    print (\"Cannot perform a sight reduction. Bad sight data.\\n\" + str(ve))\n",
    "    print (\"Check the circles! \" + st.get_map_developers_string())    "
   ]
  }
 ],
 "metadata": {
  "kernelspec": {
   "display_name": "base",
   "language": "python",
   "name": "python3"
  },
  "language_info": {
   "codemirror_mode": {
    "name": "ipython",
    "version": 3
   },
   "file_extension": ".py",
   "mimetype": "text/x-python",
   "name": "python",
   "nbconvert_exporter": "python",
   "pygments_lexer": "ipython3",
   "version": "3.11.9"
  }
 },
 "nbformat": 4,
 "nbformat_minor": 2
}
