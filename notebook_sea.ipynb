{
 "cells": [
  {
   "cell_type": "code",
   "execution_count": 1,
   "metadata": {},
   "outputs": [],
   "source": [
    "''' This is a sample for celestial navigation for a stationary observer \n",
    "    © August Linnman, 2025, email: august@linnman.net\n",
    "    MIT License (see LICENSE file)\n",
    "\n",
    "    Jupyter notebook for navigation on a moving ship/vehicle. \n",
    "'''\n",
    "\n",
    "# Importing Python libraries\n",
    "from time import time\n",
    "from starfix import Sight, SightTrip, get_representation, LatLonGeodetic,\\\n",
    "                    IntersectError"
   ]
  },
  {
   "cell_type": "code",
   "execution_count": 2,
   "metadata": {},
   "outputs": [
    {
     "ename": "ValueError",
     "evalue": "A DRP (Estimated position) is needed!",
     "output_type": "error",
     "traceback": [
      "\u001b[0;31m---------------------------------------------------------------------------\u001b[0m",
      "\u001b[0;31mValueError\u001b[0m                                Traceback (most recent call last)",
      "Cell \u001b[0;32mIn[2], line 9\u001b[0m\n\u001b[1;32m      5\u001b[0m SPEED \u001b[38;5;241m=\u001b[39m \u001b[38;5;241m20\u001b[39m\n\u001b[1;32m      7\u001b[0m \u001b[38;5;66;03m#This is the star fix for s1, the starting point\u001b[39;00m\n\u001b[0;32m----> 9\u001b[0m s1 \u001b[38;5;241m=\u001b[39m Sight (  object_name          \u001b[38;5;241m=\u001b[39m \u001b[38;5;124m\"\u001b[39m\u001b[38;5;124mSun\u001b[39m\u001b[38;5;124m\"\u001b[39m, \\\n\u001b[1;32m     10\u001b[0m               set_time             \u001b[38;5;241m=\u001b[39m \u001b[38;5;124m\"\u001b[39m\u001b[38;5;124m2024-06-20 06:14:38+00:00\u001b[39m\u001b[38;5;124m\"\u001b[39m, \\\n\u001b[1;32m     11\u001b[0m               gha_time_0           \u001b[38;5;241m=\u001b[39m \u001b[38;5;124m\"\u001b[39m\u001b[38;5;124m269:35.2\u001b[39m\u001b[38;5;124m\"\u001b[39m, \\\n\u001b[1;32m     12\u001b[0m               gha_time_1           \u001b[38;5;241m=\u001b[39m \u001b[38;5;124m\"\u001b[39m\u001b[38;5;124m284:35.1\u001b[39m\u001b[38;5;124m\"\u001b[39m, \\\n\u001b[1;32m     13\u001b[0m               decl_time_0          \u001b[38;5;241m=\u001b[39m \u001b[38;5;124m\"\u001b[39m\u001b[38;5;124m23:26.2\u001b[39m\u001b[38;5;124m\"\u001b[39m, \\\n\u001b[1;32m     14\u001b[0m               measured_alt         \u001b[38;5;241m=\u001b[39m \u001b[38;5;124m\"\u001b[39m\u001b[38;5;124m30:51:27.1\u001b[39m\u001b[38;5;124m\"\u001b[39m \\\n\u001b[1;32m     15\u001b[0m               )\n",
      "File \u001b[0;32m~/Dokument/work/coding/celestial-navigation/starfix.py:1289\u001b[0m, in \u001b[0;36mSight.__init__\u001b[0;34m(self, object_name, set_time, gha_time_0, gha_time_1, decl_time_0, measured_alt, estimated_position, decl_time_1, sha_diff, observer_height, artificial_horizon, index_error_minutes, semi_diameter_correction, horizontal_parallax, sextant, chronometer, temperature, dt_dh, pressure, ho_obs, no_dip)\u001b[0m\n\u001b[1;32m   1286\u001b[0m \u001b[38;5;28;01mif\u001b[39;00m estimated_position \u001b[38;5;129;01mis\u001b[39;00m \u001b[38;5;28;01mNone\u001b[39;00m:\n\u001b[1;32m   1287\u001b[0m     \u001b[38;5;66;03m# Use previously used parameter value\u001b[39;00m\n\u001b[1;32m   1288\u001b[0m     \u001b[38;5;28;01mif\u001b[39;00m Sight\u001b[38;5;241m.\u001b[39mestimated_position_hold \u001b[38;5;129;01mis\u001b[39;00m \u001b[38;5;28;01mNone\u001b[39;00m:\n\u001b[0;32m-> 1289\u001b[0m         \u001b[38;5;28;01mraise\u001b[39;00m \u001b[38;5;167;01mValueError\u001b[39;00m (\u001b[38;5;124m\"\u001b[39m\u001b[38;5;124mA DRP (Estimated position) is needed!\u001b[39m\u001b[38;5;124m\"\u001b[39m)\n\u001b[1;32m   1290\u001b[0m     \u001b[38;5;28mself\u001b[39m\u001b[38;5;241m.\u001b[39mestimated_position \u001b[38;5;241m=\u001b[39m Sight\u001b[38;5;241m.\u001b[39mestimated_position_hold\n\u001b[1;32m   1291\u001b[0m \u001b[38;5;28;01melse\u001b[39;00m:\n",
      "\u001b[0;31mValueError\u001b[0m: A DRP (Estimated position) is needed!"
     ]
    }
   ],
   "source": [
    "# Estimated (DR) position at start\n",
    "s1LatLon = LatLonGeodetic (59, 18)\n",
    "# Estimated course and speed\n",
    "C_COURSE = 175\n",
    "SPEED = 20\n",
    "\n",
    "#This is the star fix for s1, the starting point\n",
    "\n",
    "s1 = Sight (  object_name          = \"Sun\", \\\n",
    "              set_time             = \"2024-06-20 06:14:38+00:00\", \\\n",
    "              gha_time_0           = \"269:35.2\", \\\n",
    "              gha_time_1           = \"284:35.1\", \\\n",
    "              decl_time_0          = \"23:26.2\", \\\n",
    "              measured_alt         = \"30:51:27.1\" \\\n",
    "              )"
   ]
  },
  {
   "cell_type": "code",
   "execution_count": null,
   "metadata": {},
   "outputs": [],
   "source": [
    "# Star fix for ending point\n",
    "\n",
    "s2 = Sight (  object_name          = \"Sun\", \\\n",
    "              set_time             = \"2024-06-20 07:14:38+00:00\", \\\n",
    "              gha_time_0           = \"284:35.1\", \\\n",
    "              gha_time_1           = \"299:35.0\", \\\n",
    "              decl_time_0          = \"23:26.2\", \\\n",
    "              measured_alt         = \"38:34:21.6\" \\\n",
    "              )"
   ]
  },
  {
   "cell_type": "code",
   "execution_count": null,
   "metadata": {},
   "outputs": [
    {
     "name": "stdout",
     "output_type": "stream",
     "text": [
      "MD = https://www.mapdevelopers.com/draw-circle-tool.php?circles=%5B%5B6576360%2C23.574892%2C86.755406%2C%22%23AAAAAA%22%2C%22%23000000%22%2C0.4%5D%2C%5B5720821%2C23.574892%2C71.757073%2C%22%23AAAAAA%22%2C%22%23000000%22%2C0.4%5D%2C%5B1856%2C58.935428%2C18.002331%2C%22%23AAAAAA%22%2C%22%23000000%22%2C0.4%5D%2C%5B1856%2C58.60437%2C18.058362%2C%22%23AAAAAA%22%2C%22%23000000%22%2C0.4%5D%5D\n",
      "Starting point = (Geodetic) (N 58°,56.1′;E 18°,0.1′)\n",
      "End point = (Geodetic) (N 58°,36.3′;E 18°,3.5′)\n"
     ]
    }
   ],
   "source": [
    "# Sight reduction\n",
    "\n",
    "st = SightTrip (sight_start               = s1,\\\n",
    "                 sight_end                = s2,\\\n",
    "                 estimated_starting_point = s1LatLon,\\\n",
    "                 course_degrees           = C_COURSE,\\\n",
    "                 speed_knots              = SPEED)\n",
    "try:\n",
    "    intersections, _, _ = st.get_intersections (return_geodetic=True)\n",
    "    print (\"MD = \" + st.get_map_developers_string ())\n",
    "    assert isinstance (intersections, tuple)\n",
    "    print (\"Starting point = \" + str(get_representation(intersections[1],1)))\n",
    "    print (\"End point = \" + str(get_representation(intersections[0],1)))\n",
    "except IntersectError as ve:\n",
    "    print (\"Cannot perform a sight reduction. Bad sight data.\\n\" + str(ve))\n",
    "    print (\"Check the circles! \" + st.get_map_developers_string())    "
   ]
  }
 ],
 "metadata": {
  "kernelspec": {
   "display_name": "base",
   "language": "python",
   "name": "python3"
  },
  "language_info": {
   "codemirror_mode": {
    "name": "ipython",
    "version": 3
   },
   "file_extension": ".py",
   "mimetype": "text/x-python",
   "name": "python",
   "nbconvert_exporter": "python",
   "pygments_lexer": "ipython3",
   "version": "3.11.9"
  }
 },
 "nbformat": 4,
 "nbformat_minor": 2
}
