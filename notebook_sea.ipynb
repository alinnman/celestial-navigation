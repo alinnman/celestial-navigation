{
 "cells": [
  {
   "cell_type": "code",
   "execution_count": 1,
   "metadata": {},
   "outputs": [],
   "source": [
    "''' This is a sample for celestial navigation for a stationary observer \n",
    "    © August Linnman, 2024, email: august@linnman.net\n",
    "    MIT License (see LICENSE file)\n",
    "\n",
    "    Jupyter notebook for navigation on a moving ship/vehicle. \n",
    "'''\n",
    "\n",
    "# Importing Python libraries\n",
    "from time import time\n",
    "from starfix import Sight, SightTrip, get_representation, get_google_map_string, LatLon,\\\n",
    "                    IntersectError"
   ]
  },
  {
   "cell_type": "code",
   "execution_count": 2,
   "metadata": {},
   "outputs": [],
   "source": [
    "# Estimated (DR) position at start\n",
    "s1LatLon = LatLon (59, 18)\n",
    "# Estimated course and speed\n",
    "C_COURSE = 175\n",
    "SPEED = 20\n",
    "\n",
    "#This is the star fix for s1, the starting point\n",
    "\n",
    "s1 = Sight (  object_name          = \"Sun\", \\\n",
    "              set_time             = \"2024-06-20 06:14:38+00:00\", \\\n",
    "              gha_time_0           = \"269:35.2\", \\\n",
    "              gha_time_1           = \"284:35.1\", \\\n",
    "              decl_time_0          = \"23:26.2\", \\\n",
    "              measured_alt         = \"30:51:27.1\" \\\n",
    "              )"
   ]
  },
  {
   "cell_type": "code",
   "execution_count": 3,
   "metadata": {},
   "outputs": [],
   "source": [
    "# Star fix for ending point\n",
    "\n",
    "s2 = Sight (  object_name          = \"Sun\", \\\n",
    "              set_time             = \"2024-06-20 07:14:38+00:00\", \\\n",
    "              gha_time_0           = \"284:35.1\", \\\n",
    "              gha_time_1           = \"299:35.0\", \\\n",
    "              decl_time_0          = \"23:26.2\", \\\n",
    "              measured_alt         = \"38:34:21.6\" \\\n",
    "              )"
   ]
  },
  {
   "cell_type": "code",
   "execution_count": 4,
   "metadata": {},
   "outputs": [
    {
     "name": "stdout",
     "output_type": "stream",
     "text": [
      "MD = https://www.mapdevelopers.com/draw-circle-tool.php?circles=%5B%5B6581268%2C23.4367%2C86.7554%2C%22%23AAAAAA%22%2C%22%23000000%22%2C0.4%5D%2C%5B5722376%2C23.4367%2C71.7571%2C%22%23AAAAAA%22%2C%22%23000000%22%2C0.4%5D%5D\n",
      "Starting point = (N 58°,46.1′;E 18°,0.1′)\n",
      "End point = (N 58°,26.2′;E 18°,3.5′)\n"
     ]
    }
   ],
   "source": [
    "# Sight reduction\n",
    "\n",
    "st = SightTrip (sight_start               = s1,\\\n",
    "                 sight_end                = s2,\\\n",
    "                 estimated_starting_point = s1LatLon,\\\n",
    "                 course_degrees           = C_COURSE,\\\n",
    "                 speed_knots              = SPEED)\n",
    "try:\n",
    "    intersections, fitness, diag_output = st.get_intersections ()\n",
    "    print (\"MD = \" + st.get_map_developers_string ())\n",
    "    print (\"Starting point = \" + str(get_representation(intersections[1],1)))\n",
    "    print (\"End point = \" + str(get_representation(intersections[0],1)))\n",
    "except IntersectError as ve:\n",
    "    print (\"Cannot perform a sight reduction. Bad sight data.\\n\" + str(ve))\n",
    "    print (\"Check the circles! \" + st.get_map_developers_string())    "
   ]
  }
 ],
 "metadata": {
  "kernelspec": {
   "display_name": "base",
   "language": "python",
   "name": "python3"
  },
  "language_info": {
   "codemirror_mode": {
    "name": "ipython",
    "version": 3
   },
   "file_extension": ".py",
   "mimetype": "text/x-python",
   "name": "python",
   "nbconvert_exporter": "python",
   "pygments_lexer": "ipython3",
   "version": "3.11.9"
  }
 },
 "nbformat": 4,
 "nbformat_minor": 2
}
