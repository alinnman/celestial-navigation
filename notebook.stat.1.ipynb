{
 "cells": [
  {
   "cell_type": "code",
   "execution_count": 1,
   "metadata": {},
   "outputs": [],
   "source": [
    "# Importing Python libraries\n",
    "from time import time\n",
    "from starfix import Sight, SightCollection, get_representation, get_google_map_string"
   ]
  },
  {
   "cell_type": "code",
   "execution_count": 2,
   "metadata": {},
   "outputs": [],
   "source": [
    "# SIGHT NR 1. \n",
    "\n",
    "a = Sight (   object_name          = \"Sun\", \\\n",
    "              time_year            = 2024,\\\n",
    "              time_month           = 5,\\\n",
    "              time_day             = 5,\\\n",
    "              time_hour            = 15, \\\n",
    "              time_minute          = 55, \\\n",
    "              time_second          = 18, \\\n",
    "              gha_time_0_degrees   = 45, \\\n",
    "              gha_time_0_minutes   = 50.4, \\\n",
    "              gha_time_1_degrees   = 60, \\\n",
    "              gha_time_1_minutes   = 50.4, \\\n",
    "              decl_time_0_degrees  = 16, \\\n",
    "              decl_time_0_minutes  = 30.6, \\\n",
    "              decl_time_1_degrees  = 16, \\\n",
    "              decl_time_1_minutes  = 31.3, \\\n",
    "              measured_alt_degrees = 55, \\\n",
    "              measured_alt_minutes = 8, \\\n",
    "              measured_alt_seconds = 1.8 \\\n",
    "              )\n",
    "\n",
    "\n"
   ]
  },
  {
   "cell_type": "code",
   "execution_count": 3,
   "metadata": {},
   "outputs": [],
   "source": [
    "# SIGHT NR 2.\n",
    "\n",
    "b = Sight (   object_name          = \"Sun\", \\\n",
    "              time_year            = 2024,\\\n",
    "              time_month           = 5,\\\n",
    "              time_day             = 5,\\\n",
    "              time_hour            = 23, \\\n",
    "              time_minute          = 1, \\\n",
    "              time_second          = 19, \\\n",
    "              gha_time_0_degrees   = 165, \\\n",
    "              gha_time_0_minutes   = 50.8, \\\n",
    "              gha_time_1_degrees   = 180, \\\n",
    "              gha_time_1_minutes   = 50.8, \\\n",
    "              decl_time_0_degrees  = 16, \\\n",
    "              decl_time_0_minutes  = 36.2, \\\n",
    "              decl_time_1_degrees  = 16, \\\n",
    "              decl_time_1_minutes  = 36.9, \\\n",
    "              measured_alt_degrees = 19, \\\n",
    "              measured_alt_minutes = 28, \\\n",
    "              measured_alt_seconds = 18 \\\n",
    "              )"
   ]
  },
  {
   "cell_type": "code",
   "execution_count": 4,
   "metadata": {},
   "outputs": [],
   "source": [
    "# SIGHT NR 3. \n",
    "\n",
    "c = Sight (   object_name          = \"Vega\", \\\n",
    "              time_year            = 2024,\\\n",
    "              time_month           = 5,\\\n",
    "              time_day             = 6,\\\n",
    "              time_hour            = 4, \\\n",
    "              time_minute          = 4, \\\n",
    "              time_second          = 13, \\\n",
    "              gha_time_0_degrees   = 284, \\\n",
    "              gha_time_0_minutes   = 30.4, \\\n",
    "              gha_time_1_degrees   = 299, \\\n",
    "              gha_time_1_minutes   = 32.9, \\\n",
    "              decl_time_0_degrees  = 38, \\\n",
    "              decl_time_0_minutes  = 48.1, \\\n",
    "              measured_alt_degrees = 30, \\\n",
    "              measured_alt_minutes = 16, \\\n",
    "              measured_alt_seconds = 24.6, \\\n",
    "              sha_diff_degrees     = 80, \\\n",
    "              sha_diff_minutes     = 33.4 \\\n",
    "              )"
   ]
  },
  {
   "cell_type": "code",
   "execution_count": 5,
   "metadata": {},
   "outputs": [
    {
     "name": "stdout",
     "output_type": "stream",
     "text": [
      "(N 41°,51.3′;W 87°,38.6′)\n",
      "MD = https://www.mapdevelopers.com/draw-circle-tool.php?circles=%5B%5B3879316%2C16.5208%2C-59.665%2C%22%23AAAAAA%22%2C%22%23000000%22%2C0.4%5D%2C%5B7849750%2C16.6036%2C-166.1758%2C%22%23AAAAAA%22%2C%22%23000000%22%2C0.4%5D%2C%5B6646299%2C38.8017%2C-6.1204%2C%22%23AAAAAA%22%2C%22%23000000%22%2C0.4%5D%5D\n",
      "GM = 41.8555,-87.6429\n"
     ]
    }
   ],
   "source": [
    "# SIGHT REDUCTION.\n",
    "\n",
    "collection = SightCollection ([a, b, c])\n",
    "try:\n",
    "    intersections, fitness, diag_output = collection.get_intersections ()\n",
    "    print (get_representation(intersections,1))\n",
    "    print (\"MD = \" + collection.get_map_developers_string())\n",
    "    print (\"GM = \" + get_google_map_string(intersections,4))    \n",
    "except ValueError as ve:\n",
    "    print (\"Cannot perform a sight reduction. Bad sight data.\")\n"
   ]
  }
 ],
 "metadata": {
  "kernelspec": {
   "display_name": "base",
   "language": "python",
   "name": "python3"
  },
  "language_info": {
   "codemirror_mode": {
    "name": "ipython",
    "version": 3
   },
   "file_extension": ".py",
   "mimetype": "text/x-python",
   "name": "python",
   "nbconvert_exporter": "python",
   "pygments_lexer": "ipython3",
   "version": "3.11.9"
  }
 },
 "nbformat": 4,
 "nbformat_minor": 2
}
