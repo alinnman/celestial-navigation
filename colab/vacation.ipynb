{
  "cells": [
    {
      "cell_type": "code",
      "execution_count": 4,
      "metadata": {
        "cellView": "form",
        "id": "PGUNCdRmVOoT"
      },
      "outputs": [
        {
          "name": "stdout",
          "output_type": "stream",
          "text": [
            "Python library exists.\n",
            "Python library exists.\n",
            "planets.csv exists.\n",
            "stars.csv exists.\n",
            "sun-moon-sd.csv exists.\n",
            "sun-moon.csv exists.\n",
            "venus-mars-hp.csv exists.\n",
            "range.properties exists.\n"
          ]
        }
      ],
      "source": [
        "# @title\n",
        "################################################\n",
        "# Staging core library and .CSV files\n",
        "################################################\n",
        "\n",
        "from os import chdir\n",
        "from pathlib import Path\n",
        "import subprocess\n",
        "\n",
        "link_prefix = \"https://github.com/alinnman/celestial-navigation/raw/refs/heads/main/\"\n",
        "data_prefix = \"sample_data/\"\n",
        "\n",
        "for t in [\"starfix\", \"notebook_helper\"]:\n",
        "    s = t + \".py\"\n",
        "    my_file = Path (s)\n",
        "    if not my_file.exists():\n",
        "        print (\"Fetching \" + s + \".\")\n",
        "        subprocess.run ([\"wget\", link_prefix + s])\n",
        "    else:\n",
        "        print (\"Python library exists.\")\n",
        "\n",
        "try:\n",
        "    chdir (data_prefix)\n",
        "\n",
        "    for t in [\"planets\",\"stars\",\"sun-moon-sd\",\"sun-moon\",\"venus-mars-hp\"]:\n",
        "        s = t + \".csv\"\n",
        "        my_file = Path(s)\n",
        "        if not my_file.exists():\n",
        "            print (\"Fetching \" + s + \".\")\n",
        "            subprocess.run ([\"wget\", link_prefix + data_prefix + s])\n",
        "        else:\n",
        "            print (s + \" exists.\")\n",
        "\n",
        "    s = \"range.properties\"\n",
        "    my_file = Path(s)\n",
        "    if not my_file.exists():\n",
        "        print (\"Fetching \" + s + \".\")\n",
        "        subprocess.run ([\"wget\", link_prefix + data_prefix + s])\n",
        "    else:\n",
        "        print (s + \" exists.\")\n",
        "\n",
        "\n",
        "finally:\n",
        "    chdir (\"..\")"
      ]
    },
    {
      "cell_type": "markdown",
      "metadata": {
        "id": "7XyCTqCqTnVY"
      },
      "source": [
        "# Celestial Navigation Workbench\n",
        "\n",
        "## Introduction\n",
        "\n",
        "This is a sample web app for celestial navigation for a stationary observer.<br/>\n",
        "\n",
        "Instruction:\n",
        "\n",
        "1. **Press Ctrl+F9 to run the notebook**. <br/>\n",
        "On a mobile phone or other keyboard-less device use the menu alternative \"Runtime --> Run all\" <br/>\n",
        "You will generate an input form and a sight reduction based on default data.\n",
        "The bottom cell will show the coordinate and a map of the resulting intersections. Failure to perform a sight reduction will produce an error message.\n",
        "The input form can be manipulated to enter new data.\n",
        "1. The entered parameters in the form below are taken for a visitor in Chicago in May 2024.\n",
        "\n",
        "**NOTE**: When running the notebook for the first time you may get a security warning about the code not originating from Google Colab. You can safely ignore this warning and continue.\n",
        "\n",
        "**NOTE**: The first execution of the notebook can take some time. This is due to Google Colab initialization.\n",
        "\n",
        "This is part of (and a demo of) a software package, primarily for using on a mobile phone (without need for an internet connection). It is written in Python and also uses Jupyter/Colab features for web browser support. The target platform is the PyDroid 3 app for Android. For more information see [here](https://github.com/alinnman/celestial-navigation/tree/main/README.md).\n",
        "\n",
        "For a short intro to the workflow and algorithm used see [here](https://github.com/alinnman/celestial-navigation/tree/main/WORKFLOW.md).\n",
        "\n",
        "Geographical Positions of celestial objects (Declination, SHA, GHA) and parallax information (HP) are initialized from\n",
        "a machine-readable nautical almanac residing in the \"sample_data\" data folder.\n",
        "The data covers the years 2024-2028. The csv files are loaded when you startup the notebook.\n",
        "(These values can also be entered by hand if you use the Python scripts).\n",
        "\n",
        "A human-readable Nautical Almanac for 2024 can be found [here](https://github.com/alinnman/celestial-navigation/blob/main/nautical_almanacs/NAmod(A4)_2024.pdf).\n",
        "\n",
        "A human-readable Nautical Almanac for 2025 can be found [here](https://github.com/alinnman/celestial-navigation/blob/main/nautical_almanacs/NAmod(A4)_2025.pdf).\n",
        "\n",
        "\n",
        "## How to fill in the form\n",
        "\n",
        "First you must activate the input form. It is visible but disabled when the notebook loads for the first time. **Press Ctrl+F9 to activate the input form**.\n",
        "\n",
        "Format for all angles is \"DD:MM:SS\", \"DD:MM\" or \"DD\" (degrees, minutes, seconds). <br/>\n",
        "Timestamps [use the ISO 8601 format](https://en.wikipedia.org/wiki/ISO_8601).<br/>\n",
        "\n",
        "The **DRP_LAT** and **DRP_LON** fields represent your estimated position. Having a reasonably good estimate will improve the results of your sight reduction.\n",
        "\n",
        "The \"Use #\" check boxes are used to select the sight you want to use. Default is using three sights. You may only use 2 by unselecting one check box.\n",
        "\n",
        "* The **NAME_#** text fields are mandatory. You must enter a name of a celestial object.<br>\n",
        "* The **ALT_#** text fields are mandatory. You enter the measured altitude of the celestial object above the horizon (using your sextant).<br>\n",
        "* The **TIME_#** text fields are mandatory. You enter the time taken from your clock/chronometer.<br>\n",
        "* The ARTIFICAL_HOR check box should be checked if you use an artifical horizon.<br>\n",
        "* For description of the other fields see [here](https://github.com/alinnman/celestial-navigation/blob/main/README.md#parameters)."
      ]
    },
    {
      "cell_type": "code",
      "execution_count": 5,
      "metadata": {
        "cellView": "form",
        "id": "XHBo8ixdTnVa"
      },
      "outputs": [
        {
          "data": {
            "application/vnd.jupyter.widget-view+json": {
              "model_id": "9983e1d43a5b4d2686c3fd026c30bd03",
              "version_major": 2,
              "version_minor": 0
            },
            "text/plain": [
              "VBox(children=(MyTextWidget(value='40', description='𝗗𝗥𝗣_𝗟𝗔𝗧', layout=Layout(width='90%'), style=TextStyle(des…"
            ]
          },
          "execution_count": 5,
          "metadata": {},
          "output_type": "execute_result"
        }
      ],
      "source": [
        "# @title\n",
        "import notebook_helper\n",
        "from ipywidgets import VBox\n",
        "\n",
        "notebook_helper.initialize (\"notebook.1.json\",\n",
        "                {\"ObjectName1\" : \"Sun\",\n",
        "                \"Altitude1\" : \"55:8:1.1\",\n",
        "                \"Time1\" : \"2024-05-05 15:55:18+00:00\",\n",
        "                \"LimbCorrection1\" : \"0\",\n",
        "                \"IndexError1\" : \"0\",\n",
        "                \"ArtificialHorizon1\" : \"False\",\n",
        "                \"ObserverHeight1\" : \"0\",\n",
        "                \"Temperature1\" : \"10\",\n",
        "                \"TemperatureGradient1\" : \"-0.01\",\n",
        "                \"Pressure1\" : \"101\",\n",
        "\n",
        "                \"ObjectName2\" : \"Sun\",\n",
        "                \"Altitude2\" : \"19:28:19\",\n",
        "                \"Time2\" : \"2024-05-05 23:01:19+00:00\",\n",
        "                \"LimbCorrection2\" : \"0\",\n",
        "                \"IndexError2\" : \"0\",\n",
        "                \"ArtificialHorizon2\" : \"False\",\n",
        "                \"ObserverHeight2\" : \"0\",\n",
        "                \"Temperature2\" : \"10\",\n",
        "                \"TemperatureGradient2\" : \"-0.01\",\n",
        "                \"Pressure2\" : \"101\",\n",
        "\n",
        "                \"ObjectName3\" : \"Vega\",\n",
        "                \"Altitude3\" : \"30:16:23.7\",\n",
        "                \"Time3\" : \"2024-05-06 04:04:13+00:00\",\n",
        "                \"LimbCorrection3\" : \"0\",\n",
        "                \"IndexError3\" : \"0\",\n",
        "                \"ArtificialHorizon3\" : \"False\",\n",
        "                \"ObserverHeight3\" : \"0\",\n",
        "                \"Temperature3\" : \"10\",\n",
        "                \"TemperatureGradient3\" : \"-0.01\",\n",
        "                \"Pressure3\" : \"101\",\n",
        "\n",
        "                \"DrpLat\" : \"40\",\n",
        "                \"DrpLon\" : \"-90\",\n",
        "\n",
        "                \"Use1\" : \"True\",\n",
        "                \"Use2\" : \"True\",\n",
        "                \"Use3\" : \"True\"})\n",
        "\n",
        "w = notebook_helper.render_widget(\n",
        "                [[\"ObjectName\",          \"𝗡𝗔𝗠𝗘\",          \"MyTextWidget\"],\n",
        "                 [\"Altitude\",            \"𝗔𝗟𝗧\",            \"MyTextWidget\"],\n",
        "                 [\"Time\",                \"𝗧𝗜𝗠𝗘\",           \"MyTextWidget\"],\n",
        "                 [\"IndexError\",          \"INDEX_ERROR\",    \"MyTextWidget\"],\n",
        "                 [\"LimbCorrection\",      \"LIMB_CORR\",      \"MyLimbDropdown\"],\n",
        "                 [\"ArtificialHorizon\",   \"ARTIFICIAL_HOR\", \"MyCheckboxWidget\"],\n",
        "                 [\"ObserverHeight\",      \"OBS_HEIGHT\",     \"MyTextWidget\"],\n",
        "                 [\"Temperature\",         \"TEMP\",           \"MyTextWidget\"],\n",
        "                 [\"TemperatureGradient\", \"TEMP_GRADIENT\",  \"MyTextWidget\"],\n",
        "                 [\"Pressure\",            \"PRESSURE\",       \"MyTextWidget\"]], 3)\n",
        "VBox(w)"
      ]
    },
    {
      "cell_type": "code",
      "execution_count": null,
      "metadata": {
        "cellView": "form",
        "id": "QxRtKinSTnVc"
      },
      "outputs": [],
      "source": [
        "# @title\n",
        "# SIGHT REDUCTION.\n",
        "the_map = notebook_helper.sight_reduction ()\n",
        "the_map"
      ]
    }
  ],
  "metadata": {
    "colab": {
      "provenance": [],
      "toc_visible": true
    },
    "kernelspec": {
      "display_name": ".venv",
      "language": "python",
      "name": "python3"
    },
    "language_info": {
      "codemirror_mode": {
        "name": "ipython",
        "version": 3
      },
      "file_extension": ".py",
      "mimetype": "text/x-python",
      "name": "python",
      "nbconvert_exporter": "python",
      "pygments_lexer": "ipython3",
      "version": "3.11.11"
    }
  },
  "nbformat": 4,
  "nbformat_minor": 0
}
