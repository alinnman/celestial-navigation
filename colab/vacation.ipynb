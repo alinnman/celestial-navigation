{
  "cells": [
    {
      "cell_type": "markdown",
      "metadata": {
        "id": "view-in-github"
      },
      "source": [
        "<a href=\"https://colab.research.google.com/github/alinnman/celestial-navigation/blob/main/colab/vacation.ipynb\" target=\"_parent\"><img src=\"https://colab.research.google.com/assets/colab-badge.svg\" alt=\"Open In Colab\"/></a>"
      ]
    },
    {
      "cell_type": "code",
      "execution_count": 1,
      "metadata": {
        "cellView": "form",
        "colab": {
          "base_uri": "https://localhost:8080/"
        },
        "id": "typfYhY4R3rQ",
        "outputId": "c9c845ef-4ce0-4767-bc59-4f5152d6b6fb"
      },
      "outputs": [
        {
          "name": "stdout",
          "output_type": "stream",
          "text": [
            "Python library exists.\n",
            "planets.csv exists.\n",
            "stars.csv exists.\n",
            "sun-moon-sd.csv exists.\n",
            "sun-moon.csv exists.\n",
            "venus-mars-hp.csv exists.\n"
          ]
        }
      ],
      "source": [
        "# @title\n",
        "\n",
        "################################################\n",
        "# Staging core library and .CSV files\n",
        "################################################\n",
        "\n",
        "from os import chdir\n",
        "from pathlib import Path\n",
        "import subprocess\n",
        "\n",
        "link_prefix = \"https://github.com/alinnman/celestial-navigation/raw/refs/heads/main/\"\n",
        "data_prefix = \"sample_data/\"\n",
        "\n",
        "for t in [\"starfix\"]:\n",
        "    s = t + \".py\"\n",
        "    my_file = Path (s)\n",
        "    if not my_file.exists():\n",
        "        print (\"Fetching Python library.\")\n",
        "        subprocess.run ([\"wget\", link_prefix + s])\n",
        "    else:\n",
        "        print (\"Python library exists.\")\n",
        "\n",
        "try:\n",
        "    chdir (data_prefix)\n",
        "\n",
        "    for t in [\"planets\",\"stars\",\"sun-moon-sd\",\"sun-moon\",\"venus-mars-hp\"]:\n",
        "        s = t + \".csv\"\n",
        "        my_file = Path(s)\n",
        "        if not my_file.exists():\n",
        "            print (\"Fetching \" + s + \".\")\n",
        "            subprocess.run ([\"wget\", link_prefix + data_prefix + s])\n",
        "        else:\n",
        "            print (s + \" exists.\")\n",
        "finally:\n",
        "    chdir (\"..\")"
      ]
    },
    {
      "cell_type": "markdown",
      "metadata": {
        "id": "np5pjdC4axNZ"
      },
      "source": [
        "# Celestial Navigation Workbench\n",
        "\n",
        "This is a sample web app for celestial navigation for a stationary observer.<br/>\n",
        "\n",
        "Instruction:\n",
        "\n",
        "1. The entered parameters in the three cells below were taken for an observation taken by me on vacation this summer.\n",
        "Leave the parameters unchanged (use as a demo) or edit the cells to handle a different observation.\n",
        "1. **Press Ctrl+F9 to run the notebook**. <br/>\n",
        "On a mobile phone or other keyboard-less device use the menu alternative \"Runtime --> Run all\" <br/>\n",
        "This will execute a sight reduction and the bottom cell will show the coordinate and a link to a map of the resulting intersections. Failure to perform a sight reduction will produce an error message.\n",
        "\n",
        "**NOTE**: When running the notebook for the first time you may get a security warning about the code not originating from Google Colab. You can safely ignore this warning and continue.\n",
        "\n",
        "**NOTE**: The first execution of the notebook can take some time. This is due to Google Colab initialization.\n",
        "\n",
        "This is part of (and a demo of) a software package, primarily for using on a mobile phone (without need for an internet connection). It is written in Python and also uses Jupyter/Colab features for web browser support. The target platform is the PyDroid 3 app for Android. For more information see [here](https://github.com/alinnman/celestial-navigation/tree/main/README.md).\n",
        "\n",
        "For a short intro to the workflow and algorithm used see [here](https://github.com/alinnman/celestial-navigation/tree/main/WORKFLOW.md).\n",
        "\n",
        "Geographical Positions of celestial objects (Declination, SHA, GHA) and parallax information (HP) are initialized from\n",
        "a machine-readable nautical almanac residing in the \"sample_data\" data folder.\n",
        "The data covers the years 2024-2028.\n",
        "(These values can also be entered by hand if you use the Python scripts).\n",
        "\n",
        "A Nautical Almanac for 2024 can be found [here](https://github.com/alinnman/celestial-navigation/blob/main/NAmod(A4)_2024.pdf).\n",
        "\n",
        "A Nautical Almanac for 2025 can be found [here](https://github.com/alinnman/celestial-navigation/blob/main/NAmod(A4)_2025.pdf).\n",
        "\n",
        "Format for all angles is \"DD:MM:SS\", \"DD:MM\" or \"DD\" (degrees, minutes, seconds) <br/>\n",
        "The sight reduction can take care of observer elevation (dip of horizon), atmospheric refraction and parallax.<br/>\n",
        "For more details and description of parameters see [here](https://github.com/alinnman/celestial-navigation/blob/main/README.md#parameters)."
      ]
    },
    {
      "cell_type": "markdown",
      "metadata": {
        "id": "hzX3VW8m6ae9"
      },
      "source": [
        "# DRP Parameters"
      ]
    },
    {
      "cell_type": "code",
      "execution_count": 2,
      "metadata": {
        "cellView": "form",
        "id": "WDYSMeO9_STD"
      },
      "outputs": [],
      "source": [
        "# @title\n",
        "# Importing Python libraries\n",
        "from time import time\n",
        "from starfix import Sight, SightCollection, get_representation, get_google_map_string,\\\n",
        "                    IntersectError, LatLonGeodetic, parse_angle_string"
      ]
    },
    {
      "cell_type": "code",
      "execution_count": 3,
      "metadata": {
        "cellView": "form",
        "id": "k3axsCTl6ae-"
      },
      "outputs": [],
      "source": [
        "# ESTIMATED POSITION / DRP\n",
        "\n",
        "DRP_LAT       = \"55\"  # @param {\"type\":\"string\"}\n",
        "DRP_LON       = \"18\"  # @param {\"type\":\"string\"}\n",
        "DIAGNOSTICS   = False\n",
        "# Diagnostics don't seem to work in current version of Google Colab\n",
        "\n",
        "drpLat = parse_angle_string (DRP_LAT)\n",
        "drpLon = parse_angle_string (DRP_LON)\n",
        "\n",
        "\n",
        "THE_POS = LatLonGeodetic (drpLat, drpLon)"
      ]
    },
    {
      "cell_type": "markdown",
      "metadata": {
        "id": "qCZVTuLjDfTr"
      },
      "source": [
        "# SIGHT # 1"
      ]
    },
    {
      "cell_type": "code",
      "execution_count": 4,
      "metadata": {
        "cellView": "form",
        "id": "sSDESp0XZr25"
      },
      "outputs": [],
      "source": [
        "# SIGHT NR 1.\n",
        "\n",
        "USE_1            = True                        # @param {\"type\":\"boolean\"}\n",
        "OBJECT_NAME_1    = \"Sun\"                       # @param {\"type\":\"string\"}\n",
        "SET_TIME_1       = \"2024-06-29 08:21:00+00:00\" # @param {\"type\":\"string\"}\n",
        "LIMB_CORR_1      = 0                           # @param {\"type\":\"number\"}\n",
        "INDEX_ERROR_1    = 0                           # @param {\"type\":\"number\"}\n",
        "ARTIFICIAL_HOR_1 = True                        # @param {\"type\":\"boolean\"}\n",
        "OBS_HEIGHT_1     = 0                           # @param {\"type\":\"number\"}\n",
        "TEMPERATURE_1    = 20                          # @param {\"type\":\"number\"}\n",
        "TEMP_GRADIENT_1  = -0.01                       # @param {\"type\":\"number\"}\n",
        "PRESSURE_1       = 101                         # @param {\"type\":\"number\"}\n",
        "MEASURED_ALT_1   = \"92:46\"                     # @param {\"type\":\"string\"}"
      ]
    },
    {
      "cell_type": "markdown",
      "metadata": {
        "id": "myAbtrltDopv"
      },
      "source": [
        "# SIGHT # 2"
      ]
    },
    {
      "cell_type": "code",
      "execution_count": 5,
      "metadata": {
        "cellView": "form",
        "id": "Bp_4_6eaNTbC"
      },
      "outputs": [],
      "source": [
        "# SIGHT NR 2.\n",
        "\n",
        "USE_2            = True                        # @param {\"type\":\"boolean\"}\n",
        "OBJECT_NAME_2    = \"Sun\"                       # @param {\"type\":\"string\"}\n",
        "SET_TIME_2       = \"2024-06-29 12:51:00+00:00\" # @param {\"type\":\"string\"}\n",
        "LIMB_CORR_2      = 0                           # @param {\"type\":\"number\"}\n",
        "INDEX_ERROR_2    = 0                           # @param {\"type\":\"number\"}\n",
        "ARTIFICIAL_HOR_2 = True                        # @param {\"type\":\"boolean\"}\n",
        "OBS_HEIGHT_2     = 0                           # @param {\"type\":\"number\"}\n",
        "TEMPERATURE_2    = 20                          # @param {\"type\":\"number\"}\n",
        "TEMP_GRADIENT_2  = -0.01                       # @param {\"type\":\"number\"}\n",
        "PRESSURE_2       = 101                         # @param {\"type\":\"number\"}\n",
        "MEASURED_ALT_2   = \"98:36\"                     # @param {\"type\":\"string\"}"
      ]
    },
    {
      "cell_type": "markdown",
      "metadata": {
        "id": "HLPM4nYbDtCA"
      },
      "source": [
        "# SIGHT # 3"
      ]
    },
    {
      "cell_type": "code",
      "execution_count": 6,
      "metadata": {
        "cellView": "form",
        "id": "nSz5eTY4NTbD"
      },
      "outputs": [],
      "source": [
        "# SIGHT NR 3.\n",
        "\n",
        "USE_3            = True                        # @param {\"type\":\"boolean\"}\n",
        "OBJECT_NAME_3    = \"Sun\"                       # @param {\"type\":\"string\"}\n",
        "SET_TIME_3       = \"2024-06-28 15:36:00+00:00\" # @param {\"type\":\"string\"}\n",
        "LIMB_CORR_3        = 0                           # @param {\"type\":\"number\"}\n",
        "INDEX_ERROR_3    = 0                           # @param {\"type\":\"number\"}\n",
        "ARTIFICIAL_HOR_3 = True                        # @param {\"type\":\"boolean\"}\n",
        "OBS_HEIGHT_3     = 0                           # @param {\"type\":\"number\"}\n",
        "TEMPERATURE_3    = 20                          # @param {\"type\":\"number\"}\n",
        "TEMP_GRADIENT_3  = -0.01                       # @param {\"type\":\"number\"}\n",
        "PRESSURE_3       = 101                         # @param {\"type\":\"number\"}\n",
        "MEASURED_ALT_3   = \"58:40\"                     # @param {\"type\":\"string\"}"
      ]
    },
    {
      "cell_type": "markdown",
      "metadata": {
        "id": "p5yPSL1MDzVu"
      },
      "source": [
        "# SIGHT REDUCTION"
      ]
    },
    {
      "cell_type": "code",
      "execution_count": 7,
      "metadata": {
        "cellView": "form",
        "colab": {
          "base_uri": "https://localhost:8080/"
        },
        "id": "DfEQ6zDoNTbE",
        "outputId": "3dde1759-6e8a-4d35-f054-252babd60d6d"
      },
      "outputs": [
        {
          "ename": "TypeError",
          "evalue": "Sight.__init__() got an unexpected keyword argument 'limb_correction'",
          "output_type": "error",
          "traceback": [
            "\u001b[0;31m---------------------------------------------------------------------------\u001b[0m",
            "\u001b[0;31mTypeError\u001b[0m                                 Traceback (most recent call last)",
            "Cell \u001b[0;32mIn[7], line 54\u001b[0m\n\u001b[1;32m     49\u001b[0m     \u001b[38;5;28;01mreturn\u001b[39;00m collection\n\u001b[1;32m     52\u001b[0m \u001b[38;5;28;01mtry\u001b[39;00m:\n\u001b[1;32m     53\u001b[0m     intersections, _, _, collection \u001b[38;5;241m=\u001b[39m\\\n\u001b[0;32m---> 54\u001b[0m               SightCollection\u001b[38;5;241m.\u001b[39mget_intersections_conv (return_geodetic\u001b[38;5;241m=\u001b[39m\u001b[38;5;28;01mTrue\u001b[39;00m,\n\u001b[1;32m     55\u001b[0m                                                       estimated_position\u001b[38;5;241m=\u001b[39mTHE_POS,\n\u001b[1;32m     56\u001b[0m                                                       get_starfixes\u001b[38;5;241m=\u001b[39mget_starfixes)\n\u001b[1;32m     57\u001b[0m     \u001b[38;5;28;01massert\u001b[39;00m (\u001b[38;5;28misinstance\u001b[39m(intersections, LatLonGeodetic))\n\u001b[1;32m     58\u001b[0m     \u001b[38;5;28mprint\u001b[39m (\u001b[38;5;124m\"\u001b[39m\u001b[38;5;124mThis is the coordinate of observer\u001b[39m\u001b[38;5;124m'\u001b[39m\u001b[38;5;124ms location:\u001b[39m\u001b[38;5;124m\"\u001b[39m)\n",
            "File \u001b[0;32m~/Dokument/work/coding/celestial-navigation/colab/starfix.py:2103\u001b[0m, in \u001b[0;36mSightCollection.get_intersections_conv\u001b[0;34m(return_geodetic, estimated_position, get_starfixes, assume_good_estimated_position, limit, diagnostics, max_iter, dist_limit)\u001b[0m\n\u001b[1;32m   2099\u001b[0m counter \u001b[38;5;241m=\u001b[39m \u001b[38;5;241m0\u001b[39m\n\u001b[1;32m   2100\u001b[0m \u001b[38;5;28;01mwhile\u001b[39;00m \u001b[38;5;129;01mnot\u001b[39;00m ready:\n\u001b[1;32m   2101\u001b[0m     \u001b[38;5;66;03m# This loop will repeat the sight reduction with successively more\u001b[39;00m\n\u001b[1;32m   2102\u001b[0m     \u001b[38;5;66;03m# accurate DR positions\u001b[39;00m\n\u001b[0;32m-> 2103\u001b[0m     collection \u001b[38;5;241m=\u001b[39m get_starfixes (estimated_position)\n\u001b[1;32m   2104\u001b[0m     \u001b[38;5;28;01massert\u001b[39;00m \u001b[38;5;28misinstance\u001b[39m (collection, SightCollection)\n\u001b[1;32m   2105\u001b[0m     \u001b[38;5;66;03m#try:\u001b[39;00m\n",
            "Cell \u001b[0;32mIn[7], line 6\u001b[0m, in \u001b[0;36mget_starfixes\u001b[0;34m(drp_pos)\u001b[0m\n\u001b[1;32m      4\u001b[0m \u001b[38;5;28;01mdef\u001b[39;00m \u001b[38;5;21mget_starfixes\u001b[39m (drp_pos : LatLonGeodetic) \u001b[38;5;241m-\u001b[39m\u001b[38;5;241m>\u001b[39m SightCollection :\n\u001b[1;32m      5\u001b[0m \u001b[38;5;250m    \u001b[39m\u001b[38;5;124;03m''' Returns a list of used star fixes (SightCollection) '''\u001b[39;00m\n\u001b[0;32m----> 6\u001b[0m     a \u001b[38;5;241m=\u001b[39m Sight (   object_name              \u001b[38;5;241m=\u001b[39m OBJECT_NAME_1, \\\n\u001b[1;32m      7\u001b[0m               set_time                 \u001b[38;5;241m=\u001b[39m SET_TIME_1,              \u001b[38;5;66;03m# Time for observation \\\u001b[39;00m\n\u001b[1;32m      8\u001b[0m               measured_alt             \u001b[38;5;241m=\u001b[39m MEASURED_ALT_1,          \u001b[38;5;66;03m# Measured altitude from Sextant \\\u001b[39;00m\n\u001b[1;32m      9\u001b[0m               limb_correction          \u001b[38;5;241m=\u001b[39m LIMB_CORR_1,               \u001b[38;5;66;03m# Semidiameter correction (minutes)  \\\u001b[39;00m\n\u001b[1;32m     10\u001b[0m               index_error_minutes      \u001b[38;5;241m=\u001b[39m INDEX_ERROR_1,           \u001b[38;5;66;03m# Index error correction (minutes) \\\u001b[39;00m\n\u001b[1;32m     11\u001b[0m               artificial_horizon       \u001b[38;5;241m=\u001b[39m ARTIFICIAL_HOR_1, \\\n\u001b[1;32m     12\u001b[0m               observer_height          \u001b[38;5;241m=\u001b[39m OBS_HEIGHT_1,            \u001b[38;5;66;03m# Observer height (meters) \\\u001b[39;00m\n\u001b[1;32m     13\u001b[0m               temperature              \u001b[38;5;241m=\u001b[39m TEMPERATURE_1,           \u001b[38;5;66;03m# Temperature (degrees celsius)\\\u001b[39;00m\n\u001b[1;32m     14\u001b[0m               pressure                 \u001b[38;5;241m=\u001b[39m PRESSURE_1,              \u001b[38;5;66;03m# Pressure (kPa)\u001b[39;00m\n\u001b[1;32m     15\u001b[0m               dt_dh                    \u001b[38;5;241m=\u001b[39m TEMP_GRADIENT_1,\n\u001b[1;32m     16\u001b[0m               estimated_position       \u001b[38;5;241m=\u001b[39m THE_POS\n\u001b[1;32m     17\u001b[0m               )\n\u001b[1;32m     18\u001b[0m     b \u001b[38;5;241m=\u001b[39m Sight (   object_name              \u001b[38;5;241m=\u001b[39m OBJECT_NAME_2, \\\n\u001b[1;32m     19\u001b[0m               set_time                 \u001b[38;5;241m=\u001b[39m SET_TIME_2,              \u001b[38;5;66;03m# Time for observation \\\u001b[39;00m\n\u001b[1;32m     20\u001b[0m               measured_alt             \u001b[38;5;241m=\u001b[39m MEASURED_ALT_2,          \u001b[38;5;66;03m# Measured altitude from Sextant \\\u001b[39;00m\n\u001b[0;32m   (...)\u001b[0m\n\u001b[1;32m     27\u001b[0m               dt_dh                    \u001b[38;5;241m=\u001b[39m TEMP_GRADIENT_2\n\u001b[1;32m     28\u001b[0m               )\n\u001b[1;32m     29\u001b[0m     c \u001b[38;5;241m=\u001b[39m Sight (   object_name              \u001b[38;5;241m=\u001b[39m OBJECT_NAME_3, \\\n\u001b[1;32m     30\u001b[0m               set_time                 \u001b[38;5;241m=\u001b[39m SET_TIME_3,              \u001b[38;5;66;03m# Time for observation \\\u001b[39;00m\n\u001b[1;32m     31\u001b[0m               measured_alt             \u001b[38;5;241m=\u001b[39m MEASURED_ALT_3,          \u001b[38;5;66;03m# Measured altitude from Sextant \\\u001b[39;00m\n\u001b[0;32m   (...)\u001b[0m\n\u001b[1;32m     38\u001b[0m               dt_dh                    \u001b[38;5;241m=\u001b[39m TEMP_GRADIENT_3\n\u001b[1;32m     39\u001b[0m               )\n",
            "\u001b[0;31mTypeError\u001b[0m: Sight.__init__() got an unexpected keyword argument 'limb_correction'"
          ]
        }
      ],
      "source": [
        "# @title\n",
        "# SIGHT REDUCTION.\n",
        "\n",
        "def get_starfixes (drp_pos : LatLonGeodetic) -> SightCollection :\n",
        "    ''' Returns a list of used star fixes (SightCollection) '''\n",
        "    a = Sight (   object_name              = OBJECT_NAME_1, \\\n",
        "              set_time                 = SET_TIME_1,              # Time for observation \\\n",
        "              measured_alt             = MEASURED_ALT_1,          # Measured altitude from Sextant \\\n",
        "              limb_correction          = LIMB_CORR_1,               # Semidiameter correction (minutes)  \\\n",
        "              index_error_minutes      = INDEX_ERROR_1,           # Index error correction (minutes) \\\n",
        "              artificial_horizon       = ARTIFICIAL_HOR_1, \\\n",
        "              observer_height          = OBS_HEIGHT_1,            # Observer height (meters) \\\n",
        "              temperature              = TEMPERATURE_1,           # Temperature (degrees celsius)\\\n",
        "              pressure                 = PRESSURE_1,              # Pressure (kPa)\n",
        "              dt_dh                    = TEMP_GRADIENT_1,\n",
        "              estimated_position       = THE_POS\n",
        "              )\n",
        "    b = Sight (   object_name              = OBJECT_NAME_2, \\\n",
        "              set_time                 = SET_TIME_2,              # Time for observation \\\n",
        "              measured_alt             = MEASURED_ALT_2,          # Measured altitude from Sextant \\\n",
        "              limb_correction          = LIMB_CORR_2,               # Semidiameter correction (minutes) \\\n",
        "              index_error_minutes      = INDEX_ERROR_2,           # Index error correction (minutes) \\\n",
        "              artificial_horizon       = ARTIFICIAL_HOR_2, \\\n",
        "              observer_height          = OBS_HEIGHT_2,            # Observer height (meters) \\\n",
        "              temperature              = TEMPERATURE_2,           # Temperature (degrees celsius) \\\n",
        "              pressure                 = PRESSURE_2,              # Pressure (kPa)\n",
        "              dt_dh                    = TEMP_GRADIENT_2\n",
        "              )\n",
        "    c = Sight (   object_name              = OBJECT_NAME_3, \\\n",
        "              set_time                 = SET_TIME_3,              # Time for observation \\\n",
        "              measured_alt             = MEASURED_ALT_3,          # Measured altitude from Sextant \\\n",
        "              limb_correction          = LIMB_CORR_3,               # Semidiameter correction (minutes) \\\n",
        "              index_error_minutes      = INDEX_ERROR_3,           # Index error correction (minutes) \\\n",
        "              artificial_horizon       = ARTIFICIAL_HOR_3,\n",
        "              observer_height          = OBS_HEIGHT_3,            # Observer height (meters) \\\n",
        "              temperature              = TEMPERATURE_3,           # Temperature (degress celsius) \\\n",
        "              pressure                 = PRESSURE_3,              # Pressure (kPa)\n",
        "              dt_dh                    = TEMP_GRADIENT_3\n",
        "              )\n",
        "    siteList = list ()\n",
        "    if USE_1:\n",
        "        siteList.append (a)\n",
        "    if USE_2:\n",
        "        siteList.append (b)\n",
        "    if USE_3:\n",
        "        siteList.append (c)\n",
        "\n",
        "    collection = SightCollection (siteList)\n",
        "    return collection\n",
        "\n",
        "\n",
        "try:\n",
        "    intersections, _, _, collection =\\\n",
        "              SightCollection.get_intersections_conv (return_geodetic=True,\n",
        "                                                      estimated_position=THE_POS,\n",
        "                                                      get_starfixes=get_starfixes)\n",
        "    assert (isinstance(intersections, LatLonGeodetic))\n",
        "    print (\"This is the coordinate of observer's location:\")\n",
        "    print (get_representation(intersections,1))\n",
        "    print (\"\")\n",
        "    print (\"This is a link to a map showing the intersections of circles of equal altitude\")\n",
        "    print (\"You may need to Ctrl+Drag the mouse to pan the map\")\n",
        "    print (collection.get_map_developers_string(geodetic=True))\n",
        "    print (\"\")\n",
        "    print (\"This is the Google Map position (enter it as an address/location in Google Maps)\")\n",
        "    print (get_google_map_string(LatLonGeodetic(ll=intersections),4))\n",
        "\n",
        "except IntersectError as ve:\n",
        "    print (\"Cannot perform a sight reduction. Bad sight data.\")\n",
        "    if ve.coll_object is not None:\n",
        "        if isinstance (ve.coll_object, SightCollection):\n",
        "            print (\"Check the circles! \" +\n",
        "                    ve.coll_object.get_map_developers_string(geodetic=True))"
      ]
    },
    {
      "cell_type": "markdown",
      "metadata": {
        "id": "oAcNyRD2jLlE"
      },
      "source": [
        "© August Linnman, 2025, email: august@linnman.net<br/>\n",
        "[MIT License](https://github.com/alinnman/celestial-navigation/blob/main/LICENSE)"
      ]
    }
  ],
  "metadata": {
    "colab": {
      "provenance": []
    },
    "kernelspec": {
      "display_name": "base",
      "language": "python",
      "name": "python3"
    },
    "language_info": {
      "codemirror_mode": {
        "name": "ipython",
        "version": 3
      },
      "file_extension": ".py",
      "mimetype": "text/x-python",
      "name": "python",
      "nbconvert_exporter": "python",
      "pygments_lexer": "ipython3",
      "version": "3.11.11"
    }
  },
  "nbformat": 4,
  "nbformat_minor": 0
}
