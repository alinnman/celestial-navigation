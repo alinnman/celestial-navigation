{
  "cells": [
    {
      "cell_type": "markdown",
      "metadata": {
        "id": "view-in-github"
      },
      "source": [
        "<a href=\"https://colab.research.google.com/github/alinnman/celestial-navigation/blob/main/colab/vacation.ipynb\" target=\"_parent\"><img src=\"https://colab.research.google.com/assets/colab-badge.svg\" alt=\"Open In Colab\"/></a>"
      ]
    },
    {
      "cell_type": "code",
      "execution_count": 59,
      "metadata": {
        "cellView": "form",
        "colab": {
          "base_uri": "https://localhost:8080/"
        },
        "id": "typfYhY4R3rQ",
        "outputId": "1c612b61-a4c5-4744-b3c3-698e2d4df533"
      },
      "outputs": [
        {
          "name": "stdout",
          "output_type": "stream",
          "text": [
            "Python library exists.\n",
            "planets.csv exists.\n",
            "stars.csv exists.\n",
            "sun-moon-sd.csv exists.\n",
            "sun-moon.csv exists.\n",
            "venus-mars-hp.csv exists.\n"
          ]
        }
      ],
      "source": [
        "# @title\n",
        "\n",
        "################################################\n",
        "# Staging core library and .CSV files\n",
        "################################################\n",
        "\n",
        "from os import chdir\n",
        "from pathlib import Path\n",
        "import subprocess\n",
        "\n",
        "link_prefix = \"https://github.com/alinnman/celestial-navigation/raw/refs/heads/main/\"\n",
        "data_prefix = \"sample_data/\"\n",
        "\n",
        "for t in [\"starfix\"]:\n",
        "    s = t + \".py\"\n",
        "    my_file = Path (s)\n",
        "    if not my_file.exists():\n",
        "        print (\"Fetching Python library.\")\n",
        "        subprocess.run ([\"wget\", link_prefix + s])\n",
        "    else:\n",
        "        print (\"Python library exists.\")\n",
        "\n",
        "try:\n",
        "    chdir (data_prefix)\n",
        "\n",
        "    for t in [\"planets\",\"stars\",\"sun-moon-sd\",\"sun-moon\",\"venus-mars-hp\"]:\n",
        "        s = t + \".csv\"\n",
        "        my_file = Path(s)\n",
        "        if not my_file.exists():\n",
        "            print (\"Fetching \" + s + \".\")\n",
        "            subprocess.run ([\"wget\", link_prefix + data_prefix + s])\n",
        "        else:\n",
        "            print (s + \" exists.\")\n",
        "finally:\n",
        "    chdir (\"..\")"
      ]
    },
    {
      "cell_type": "markdown",
      "metadata": {
        "id": "np5pjdC4axNZ"
      },
      "source": [
        "# Celestial Navigation Workbench\n",
        "\n",
        "This is a sample web app for celestial navigation for a stationary observer.<br/>\n",
        "\n",
        "Instruction:\n",
        "\n",
        "1. The entered parameters in the three cells below were taken for an observation taken by me on vacation this summer.\n",
        "Leave the parameters unchanged (use as a demo) or edit the cells to handle a different observation.\n",
        "1. **Press Ctrl+F9 to run the notebook**. <br/>\n",
        "On a mobile phone or other keyboard-less device use the menu alternative \"Runtime --> Run all\" <br/>\n",
        "This will execute a sight reduction and the bottom cell will show the coordinate and a link to a map of the resulting intersections. Failure to perform a sight reduction will produce an error message.\n",
        "\n",
        "**NOTE**: When running the notebook for the first time you may get a security warning about the code not originating from Google Colab. You can safely ignore this warning and continue.\n",
        "\n",
        "**NOTE**: The first execution of the notebook can take some time. This is due to Google Colab initialization.\n",
        "\n",
        "This is part of (and a demo of) a software package, primarily for using on a mobile phone (without need for an internet connection). It is written in Python and also uses Jupyter/Colab features for web browser support. The target platform is the PyDroid 3 app for Android. For more information see [here](https://github.com/alinnman/celestial-navigation/tree/main/README.md).\n",
        "\n",
        "For a short intro to the workflow and algorithm used see [here](https://github.com/alinnman/celestial-navigation/tree/main/WORKFLOW.md).\n",
        "\n",
        "Geographical Positions of celestial objects (Declination, SHA, GHA) and parallax information (HP) are initialized from\n",
        "a machine-readable nautical almanac residing in the \"sample_data\" data folder.\n",
        "The data covers the years 2024-2028.\n",
        "(These values can also be entered by hand if you use the Python scripts).\n",
        "\n",
        "A Nautical Almanac for 2024 can be found [here](https://github.com/alinnman/celestial-navigation/blob/main/NAmod(A4)_2024.pdf).\n",
        "\n",
        "A Nautical Almanac for 2025 can be found [here](https://github.com/alinnman/celestial-navigation/blob/main/NAmod(A4)_2025.pdf).\n",
        "\n",
        "Format for all angles is \"DD:MM:SS\", \"DD:MM\" or \"DD\" (degrees, minutes, seconds) <br/>\n",
        "The sight reduction can take care of observer elevation (dip of horizon), atmospheric refraction and parallax.<br/>\n",
        "For more details and description of parameters see [here](https://github.com/alinnman/celestial-navigation/blob/main/README.md#parameters)."
      ]
    },
    {
      "cell_type": "markdown",
      "metadata": {
        "id": "hzX3VW8m6ae9"
      },
      "source": [
        "# DRP Parameters"
      ]
    },
    {
      "cell_type": "code",
      "execution_count": 60,
      "metadata": {
        "cellView": "form",
        "id": "WDYSMeO9_STD"
      },
      "outputs": [],
      "source": [
        "# @title\n",
        "# Importing Python libraries\n",
        "from time import time\n",
        "from starfix import Sight, SightCollection, get_representation, get_google_map_string,\\\n",
        "                    IntersectError, LatLonGeodetic, parse_angle_string,\\\n",
        "                    Circle"
      ]
    },
    {
      "cell_type": "code",
      "execution_count": 61,
      "metadata": {
        "cellView": "form",
        "id": "k3axsCTl6ae-"
      },
      "outputs": [],
      "source": [
        "# ESTIMATED POSITION / DRP\n",
        "\n",
        "DRP_LAT       = \"55\"  # @param {\"type\":\"string\"}\n",
        "DRP_LON       = \"18\"  # @param {\"type\":\"string\"}\n",
        "DIAGNOSTICS   = False\n",
        "# Diagnostics don't seem to work in current version of Google Colab\n",
        "\n",
        "drpLat = parse_angle_string (DRP_LAT)\n",
        "drpLon = parse_angle_string (DRP_LON)\n",
        "\n",
        "\n",
        "THE_POS = LatLonGeodetic (drpLat, drpLon)"
      ]
    },
    {
      "cell_type": "markdown",
      "metadata": {
        "id": "qCZVTuLjDfTr"
      },
      "source": [
        "# SIGHT # 1"
      ]
    },
    {
      "cell_type": "code",
      "execution_count": null,
      "metadata": {
        "cellView": "form",
        "id": "sSDESp0XZr25"
      },
      "outputs": [],
      "source": [
        "# SIGHT NR 1.\n",
        "\n",
        "USE_1            = True                        # @param {\"type\":\"boolean\"}\n",
        "OBJECT_NAME_1    = \"Sun\"                       # @param {\"type\":\"string\"}\n",
        "SET_TIME_1       = \"2024-06-29 08:21:00+00:00\" # @param {\"type\":\"string\"}\n",
        "LIMB_CORR_1      = 0                           # @param [-1,0,1]\n",
        "INDEX_ERROR_1    = 0                           # @param {\"type\":\"number\"}\n",
        "ARTIFICIAL_HOR_1 = True                        # @param {\"type\":\"boolean\"}\n",
        "OBS_HEIGHT_1     = 0                           # @param {\"type\":\"number\"}\n",
        "TEMPERATURE_1    = 20                          # @param {\"type\":\"number\"}\n",
        "TEMP_GRADIENT_1  = -0.01                       # @param {\"type\":\"number\"}\n",
        "PRESSURE_1       = 101                         # @param {\"type\":\"number\"}\n",
        "MEASURED_ALT_1   = \"92:46\"                     # @param {\"type\":\"string\"}\n",
        "\n",
        "LIMB_CORR_1 = int (LIMB_CORR_1)"
      ]
    },
    {
      "cell_type": "markdown",
      "metadata": {
        "id": "myAbtrltDopv"
      },
      "source": [
        "# SIGHT # 2"
      ]
    },
    {
      "cell_type": "code",
      "execution_count": 63,
      "metadata": {
        "cellView": "form",
        "id": "Bp_4_6eaNTbC"
      },
      "outputs": [],
      "source": [
        "# SIGHT NR 2.\n",
        "\n",
        "USE_2            = True                        # @param {\"type\":\"boolean\"}\n",
        "OBJECT_NAME_2    = \"Sun\"                       # @param {\"type\":\"string\"}\n",
        "SET_TIME_2       = \"2024-06-29 12:51:00+00:00\" # @param {\"type\":\"string\"}\n",
        "LIMB_CORR_2      = 0                           # @param [-1,0,1]\n",
        "INDEX_ERROR_2    = 0                           # @param {\"type\":\"number\"}\n",
        "ARTIFICIAL_HOR_2 = True                        # @param {\"type\":\"boolean\"}\n",
        "OBS_HEIGHT_2     = 0                           # @param {\"type\":\"number\"}\n",
        "TEMPERATURE_2    = 20                          # @param {\"type\":\"number\"}\n",
        "TEMP_GRADIENT_2  = -0.01                       # @param {\"type\":\"number\"}\n",
        "PRESSURE_2       = 101                         # @param {\"type\":\"number\"}\n",
        "MEASURED_ALT_2   = \"98:36\"                     # @param {\"type\":\"string\"}\n",
        "\n",
        "LIMB_CORR_2 = int (LIMB_CORR_2)"
      ]
    },
    {
      "cell_type": "markdown",
      "metadata": {
        "id": "HLPM4nYbDtCA"
      },
      "source": [
        "# SIGHT # 3"
      ]
    },
    {
      "cell_type": "code",
      "execution_count": 64,
      "metadata": {
        "cellView": "form",
        "id": "nSz5eTY4NTbD"
      },
      "outputs": [],
      "source": [
        "# SIGHT NR 3.\n",
        "\n",
        "USE_3            = True                        # @param {\"type\":\"boolean\"}\n",
        "OBJECT_NAME_3    = \"Sun\"                       # @param {\"type\":\"string\"}\n",
        "SET_TIME_3       = \"2024-06-28 15:36:00+00:00\" # @param {\"type\":\"string\"}\n",
        "LIMB_CORR_3      = 0                           # @param [-1,0,1]\n",
        "INDEX_ERROR_3    = 0                           # @param {\"type\":\"number\"}\n",
        "ARTIFICIAL_HOR_3 = True                        # @param {\"type\":\"boolean\"}\n",
        "OBS_HEIGHT_3     = 0                           # @param {\"type\":\"number\"}\n",
        "TEMPERATURE_3    = 20                          # @param {\"type\":\"number\"}\n",
        "TEMP_GRADIENT_3  = -0.01                       # @param {\"type\":\"number\"}\n",
        "PRESSURE_3       = 101                         # @param {\"type\":\"number\"}\n",
        "MEASURED_ALT_3   = \"58:40\"                     # @param {\"type\":\"string\"}\n",
        "\n",
        "LIMB_CORR_3 = int (LIMB_CORR_3)"
      ]
    },
    {
      "cell_type": "markdown",
      "metadata": {
        "id": "p5yPSL1MDzVu"
      },
      "source": [
        "# SIGHT REDUCTION"
      ]
    },
    {
      "cell_type": "code",
      "execution_count": null,
      "metadata": {
        "cellView": "form",
        "colab": {
          "base_uri": "https://localhost:8080/"
        },
        "id": "DfEQ6zDoNTbE",
        "outputId": "47f501f8-458a-4db9-aa21-df2d2f699bf2"
      },
      "outputs": [
        {
          "name": "stdout",
          "output_type": "stream",
          "text": [
            "This is the coordinate of observer's location:\n",
            "(Geodetic) (N 57°,38.5′;E 18°,18.5′)\n",
            "\n",
            "This is a link to a map showing the intersections of circles of equal altitude.\n",
            "NOTE: The mapping of these circles is not accurate. Use it mainly for troubleshooting!\n",
            "You may need to Ctrl+Drag the mouse to pan the map\n",
            "https://www.mapdevelopers.com/draw-circle-tool.php?circles=%5B%5B4844393%2C23.329286%2C55.640583%2C%22%23AAAAAA%22%2C%22%23000000%22%2C0.4%5D%2C%5B4518696%2C23.317567%2C-11.85025%2C%22%23AAAAAA%22%2C%22%23000000%22%2C0.4%5D%2C%5B6745149%2C23.367961%2C-53.144%2C%22%23AAAAAA%22%2C%22%23000000%22%2C0.4%5D%5D\n",
            "\n",
            "This is the Google Map intersection position (enter it as an address/location in Google Maps)\n",
            "(Geodetic) 57.6411,18.3079\n",
            "\n",
            "This is the precise/weighted intersection\n",
            "https://www.mapdevelopers.com/draw-circle-tool.php?circles=%5B%5B1113%2C57.641136%2C18.307856%2C%22%23AAAAAA%22%2C%22%23000000%22%2C0.4%5D%5D\n"
          ]
        }
      ],
      "source": [
        "# @title\n",
        "# SIGHT REDUCTION.\n",
        "\n",
        "def get_starfixes (drp_pos : LatLonGeodetic) -> SightCollection :\n",
        "    ''' Returns a list of used star fixes (SightCollection) '''\n",
        "    a = Sight (   object_name          = OBJECT_NAME_1, \\\n",
        "              set_time                 = SET_TIME_1,              # Time for observation \\\n",
        "              measured_alt             = MEASURED_ALT_1,          # Measured altitude from Sextant \\\n",
        "              limb_correction          = LIMB_CORR_1,             # Semidiameter correction (minutes)  \\\n",
        "              index_error_minutes      = INDEX_ERROR_1,           # Index error correction (minutes) \\\n",
        "              artificial_horizon       = ARTIFICIAL_HOR_1, \\\n",
        "              observer_height          = OBS_HEIGHT_1,            # Observer height (meters) \\\n",
        "              temperature              = TEMPERATURE_1,           # Temperature (degrees celsius)\\\n",
        "              pressure                 = PRESSURE_1,              # Pressure (kPa)\n",
        "              dt_dh                    = TEMP_GRADIENT_1,\n",
        "              estimated_position       = THE_POS\n",
        "              )\n",
        "    b = Sight (   object_name          = OBJECT_NAME_2, \\\n",
        "              set_time                 = SET_TIME_2,              # Time for observation \\\n",
        "              measured_alt             = MEASURED_ALT_2,          # Measured altitude from Sextant \\\n",
        "              limb_correction          = LIMB_CORR_2,             # Semidiameter correction (minutes) \\\n",
        "              index_error_minutes      = INDEX_ERROR_2,           # Index error correction (minutes) \\\n",
        "              artificial_horizon       = ARTIFICIAL_HOR_2, \\\n",
        "              observer_height          = OBS_HEIGHT_2,            # Observer height (meters) \\\n",
        "              temperature              = TEMPERATURE_2,           # Temperature (degrees celsius) \\\n",
        "              pressure                 = PRESSURE_2,              # Pressure (kPa)\n",
        "              dt_dh                    = TEMP_GRADIENT_2\n",
        "              )\n",
        "    c = Sight (   object_name          = OBJECT_NAME_3, \\\n",
        "              set_time                 = SET_TIME_3,              # Time for observation \\\n",
        "              measured_alt             = MEASURED_ALT_3,          # Measured altitude from Sextant \\\n",
        "              limb_correction          = LIMB_CORR_3,             # Semidiameter correction (minutes) \\\n",
        "              index_error_minutes      = INDEX_ERROR_3,           # Index error correction (minutes) \\\n",
        "              artificial_horizon       = ARTIFICIAL_HOR_3,\n",
        "              observer_height          = OBS_HEIGHT_3,            # Observer height (meters) \\\n",
        "              temperature              = TEMPERATURE_3,           # Temperature (degress celsius) \\\n",
        "              pressure                 = PRESSURE_3,              # Pressure (kPa)\n",
        "              dt_dh                    = TEMP_GRADIENT_3\n",
        "              )\n",
        "    siteList = list ()\n",
        "    if USE_1:\n",
        "        siteList.append (a)\n",
        "    if USE_2:\n",
        "        siteList.append (b)\n",
        "    if USE_3:\n",
        "        siteList.append (c)\n",
        "\n",
        "    collection = SightCollection (siteList)\n",
        "    return collection\n",
        "\n",
        "\n",
        "try:\n",
        "    intersections, _, _, collection =\\\n",
        "              SightCollection.get_intersections_conv (return_geodetic=True,\n",
        "                                                      estimated_position=THE_POS,\n",
        "                                                      get_starfixes=get_starfixes)\n",
        "    assert (isinstance(intersections, LatLonGeodetic))\n",
        "    print (\"This is the coordinate of observer's location:\")\n",
        "    print (get_representation(intersections,1))\n",
        "    print (\"\")\n",
        "    print (\"This is a link to a map showing the intersections of circles of equal altitude.\")\n",
        "    print (\"NOTE: The mapping of these circles is not accurate. Use it mainly for troubleshooting!\")\n",
        "    print (\"You may need to Ctrl+Drag the mouse to pan the map\")\n",
        "    print (collection.get_map_developers_string(geodetic=True))\n",
        "    print (\"\")\n",
        "    print (\"This is the Google Map intersection position (enter it as an address/location in Google Maps)\")\n",
        "    print (get_google_map_string(LatLonGeodetic(ll=intersections),4))\n",
        "    print (\"\")\n",
        "    int_circle = Circle (intersections, 0.01)\n",
        "    print (\"This is the precise/weighted intersection\")\n",
        "    print (int_circle.get_map_developers_string(include_url_start=True))\n",
        "\n",
        "except IntersectError as ve:\n",
        "    print (\"Cannot perform a sight reduction. Bad sight data.\")\n",
        "    if ve.coll_object is not None:\n",
        "        if isinstance (ve.coll_object, SightCollection):\n",
        "            print (\"Check the circles! \" +\n",
        "                    ve.coll_object.get_map_developers_string(geodetic=True))"
      ]
    },
    {
      "cell_type": "markdown",
      "metadata": {
        "id": "oAcNyRD2jLlE"
      },
      "source": [
        "© August Linnman, 2025, email: august@linnman.net<br/>\n",
        "[MIT License](https://github.com/alinnman/celestial-navigation/blob/main/LICENSE)"
      ]
    }
  ],
  "metadata": {
    "colab": {
      "provenance": []
    },
    "kernelspec": {
      "display_name": "base",
      "language": "python",
      "name": "python3"
    },
    "language_info": {
      "codemirror_mode": {
        "name": "ipython",
        "version": 3
      },
      "file_extension": ".py",
      "mimetype": "text/x-python",
      "name": "python",
      "nbconvert_exporter": "python",
      "pygments_lexer": "ipython3",
      "version": "3.11.11"
    }
  },
  "nbformat": 4,
  "nbformat_minor": 0
}
