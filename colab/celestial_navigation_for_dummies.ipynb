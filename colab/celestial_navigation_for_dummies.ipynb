{
  "cells": [
    {
      "cell_type": "markdown",
      "metadata": {
        "id": "9x7F3wwl8l7C"
      },
      "source": [
        "# Celestial Navigation for Dummies\n",
        "\n",
        "In the form below enter the approximate **angle to the sun** in degrees above the horizon. You can measure it with any tool or even just approximate with your eyes, but a sextant will be the best choice for good accuracy. (90 degrees is straight overhead. 0 degrees is at the horizon).\n",
        "\n",
        "Also enter the **date and time**. The timestamp ends with a timezone specification, \"+00:00\" or \"Z\" for GMT time. For other timezones add or subtract. Examples: Helsinki Time is \"+02:00\". US Eastern Time is \"-05:00\".\n",
        "\n",
        "When done **press Ctrl+F9** to recalculate the notebook. On a mobile phone or table use the menu \"Runtime->Run All\"<br>(It will take some time the first time, due to Google Colab initialization)."
      ]
    },
    {
      "cell_type": "code",
      "execution_count": 6,
      "metadata": {
        "cellView": "form",
        "id": "ZRYixadIIB9V"
      },
      "outputs": [
        {
          "name": "stdout",
          "output_type": "stream",
          "text": [
            "Python library exists.\n",
            "Python library exists.\n",
            "planets.csv exists.\n",
            "stars.csv exists.\n",
            "sun-moon-sd.csv exists.\n",
            "sun-moon.csv exists.\n",
            "venus-mars-hp.csv exists.\n",
            "range.properties exists.\n"
          ]
        }
      ],
      "source": [
        "# @title\n",
        "################################################\n",
        "# Staging core library and .CSV files\n",
        "################################################\n",
        "\n",
        "from os import chdir\n",
        "from pathlib import Path\n",
        "import subprocess\n",
        "\n",
        "link_prefix = \"https://github.com/alinnman/celestial-navigation/raw/refs/heads/main/\"\n",
        "data_prefix = \"sample_data/\"\n",
        "\n",
        "for t in [\"starfix\", \"notebook_helper\"]:\n",
        "    s = t + \".py\"\n",
        "    my_file = Path (s)\n",
        "    if not my_file.exists():\n",
        "        print (\"Fetching \" + s + \".\")\n",
        "        subprocess.run ([\"wget\", link_prefix + s])\n",
        "    else:\n",
        "        print (\"Python library exists.\")\n",
        "\n",
        "try:\n",
        "    chdir (data_prefix)\n",
        "\n",
        "    for t in [\"planets\",\"stars\",\"sun-moon-sd\",\"sun-moon\",\"venus-mars-hp\"]:\n",
        "        s = t + \".csv\"\n",
        "        my_file = Path(s)\n",
        "        if not my_file.exists():\n",
        "            print (\"Fetching \" + s + \".\")\n",
        "            subprocess.run ([\"wget\", link_prefix + data_prefix + s])\n",
        "        else:\n",
        "            print (s + \" exists.\")\n",
        "\n",
        "    s = \"range.properties\"\n",
        "    my_file = Path(s)\n",
        "    if not my_file.exists():\n",
        "        print (\"Fetching \" + s + \".\")\n",
        "        subprocess.run ([\"wget\", link_prefix + data_prefix + s])\n",
        "    else:\n",
        "        print (s + \" exists.\")\n",
        "\n",
        "\n",
        "finally:\n",
        "    chdir (\"..\")"
      ]
    },
    {
      "cell_type": "markdown",
      "metadata": {
        "id": "FhCH_NWX8Ihf"
      },
      "source": [
        "State your current position (latitude and longitude) approximately here. A very rough estimate will be ok. For better accuracy you will need a better (more accurate) DRP."
      ]
    },
    {
      "cell_type": "code",
      "execution_count": 7,
      "metadata": {
        "cellView": "form",
        "collapsed": true,
        "id": "2x5ly-vN8Adn"
      },
      "outputs": [],
      "source": [
        "from folium import Map as Folium_Map\n",
        "from starfix import Sight, LatLonGeodetic\n",
        "\n",
        "# @title String fields\n",
        "\n",
        "sun_angle = '40' # @param {type:\"string\"}\n",
        "timestamp = '2025-05-05 13:55:18Z' # @param {type:\"string\"}\n",
        "\n",
        "dead_reckon_pos_lat = '55' # @param {type:\"string\"}\n",
        "dead_reckon_pos_lon = '20' # @param {type:\"string\"}\n",
        "\n",
        "the_map = None\n",
        "try:\n",
        "\n",
        "    Sight.set_estimated_position (LatLonGeodetic(float(dead_reckon_pos_lat),\n",
        "                                                 float(dead_reckon_pos_lon)))\n",
        "\n",
        "    a = Sight ( object_name          = \"Sun\",\n",
        "                set_time             = timestamp,\n",
        "                measured_alt         = sun_angle\n",
        "                )\n",
        "    the_map = Folium_Map ([a.get_gp().get_lat(), a.get_gp().get_lon()],zoom_start=2)\n",
        "    a.render_folium (the_map)\n",
        "except ValueError as ve:\n",
        "    print (str(ve))\n",
        "except KeyError as ke:\n",
        "    print (\"Key Error: The nautical almanac only covers 2024-2028.\")"
      ]
    },
    {
      "cell_type": "markdown",
      "metadata": {
        "id": "ApjKrRa19TH2"
      },
      "source": [
        "Below you will see a map and **you are located somewhere on the drawn circle**. You can repeat this for other observations and then you will see these circles intersect at a common point, and this will reveal your **location**. This is [**Celestial Navigation**](https://en.wikipedia.org/wiki/Celestial_navigation).<br>*The circle is exactly what you would get if you drew a circle on a [physical earth-globe](https://en.wikipedia.org/wiki/Globe) using a [divider](https://en.wikipedia.org/wiki/Compass_(drawing_tool)) setting the radius to $R$ (kilometers) where $R=(90-a)\\times 111.1$ where $a$ is the measured sun angle.*"
      ]
    },
    {
      "cell_type": "code",
      "execution_count": null,
      "metadata": {
        "cellView": "form",
        "collapsed": true,
        "id": "yMH6o6Wp9PJ4"
      },
      "outputs": [],
      "source": [
        "# @title\n",
        "the_map"
      ]
    },
    {
      "cell_type": "markdown",
      "metadata": {
        "id": "5YRgQs15_0b7"
      },
      "source": [
        "The maths used here is 100% based on the Earth being a sphere. You can read more about the maths [here](https://github.com/alinnman/celestial-navigation/blob/main/WORKFLOW.md).\n",
        "Actually this is very strong evidence for a spheric Earth and you can read about it [here](https://earthform.linnman.net/the-earth-is-a-sphere-and-it-can-easily-be-proved).\n",
        "\n",
        "A more complete celestial navigation notebook can be found [here](https://colab.research.google.com/drive/1bZt35-P6aiPlKWktyXgU3he6Di_N-PpA)."
      ]
    }
  ],
  "metadata": {
    "colab": {
      "provenance": []
    },
    "kernelspec": {
      "display_name": ".venv",
      "language": "python",
      "name": "python3"
    },
    "language_info": {
      "codemirror_mode": {
        "name": "ipython",
        "version": 3
      },
      "file_extension": ".py",
      "mimetype": "text/x-python",
      "name": "python",
      "nbconvert_exporter": "python",
      "pygments_lexer": "ipython3",
      "version": "3.11.11"
    }
  },
  "nbformat": 4,
  "nbformat_minor": 0
}
