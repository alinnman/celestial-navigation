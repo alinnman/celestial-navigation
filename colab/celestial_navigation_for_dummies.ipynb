{
  "cells": [
    {
      "cell_type": "markdown",
      "metadata": {
        "id": "9x7F3wwl8l7C"
      },
      "source": [
        "# Celestial Navigation for Dummies\n",
        "\n",
        "In the form below enter the approximate **angle to the sun** in degrees above the horizon. You can measure it with any tool or even just approximate with your eyes, but a sextant will be the best choice for good accuracy. (90 degrees is straight overhead. 0 degrees is at the horizon).\n",
        "\n",
        "Also enter the **date and time**. The timestamp ends with a timezone specification, \"+00:00\" for GMT time. For other timezones add or subtract. Examples: Helsinki Time is \"+02:00\". US Eastern Time is \"-05:00\".\n",
        "\n",
        "When done **press Ctrl+F9** to recalculate the notebook. On a mobile phone or table use the menu \"Runtime->Run All\"<br>(It will take some time the first time, due to Google Colab initialization)."
      ]
    },
    {
      "cell_type": "code",
      "execution_count": 53,
      "metadata": {
        "cellView": "form",
        "collapsed": true,
        "id": "PGUNCdRmVOoT"
      },
      "outputs": [],
      "source": [
        "# @title\n",
        "################################################\n",
        "# Staging core library and .CSV files\n",
        "################################################\n",
        "\n",
        "from os import chdir, curdir\n",
        "from pathlib import Path\n",
        "import subprocess\n",
        "\n",
        "from folium import Map as Folium_Map\n",
        "\n",
        "link_prefix = \"https://github.com/alinnman/celestial-navigation/raw/refs/heads/main/\"\n",
        "data_prefix = \"sample_data/\"\n",
        "\n",
        "for t in [\"starfix\", \"notebook_helper\"]:\n",
        "    s = t + \".py\"\n",
        "    my_file = Path (s)\n",
        "    if not my_file.exists():\n",
        "        #print (\"Fetching \" + s + \".\")\n",
        "        subprocess.run ([\"wget\", link_prefix + s])\n",
        "    else:\n",
        "        #print (\"Python library exists.\")\n",
        "        pass\n",
        "\n",
        "try:\n",
        "    chdir (data_prefix)\n",
        "\n",
        "    for t in [\"planets\",\"stars\",\"sun-moon-sd\",\"sun-moon\",\"venus-mars-hp\"]:\n",
        "        s = t + \".csv\"\n",
        "        my_file = Path(s)\n",
        "        if not my_file.exists():\n",
        "            #print (\"Fetching \" + s + \".\")\n",
        "            subprocess.run ([\"wget\", link_prefix + data_prefix + s])\n",
        "        else:\n",
        "            #print (s + \" exists.\")\n",
        "            pass\n",
        "finally:\n",
        "    chdir (\"..\")\n",
        "\n",
        "\n",
        "from starfix import Sight, LatLonGeodetic\n",
        "\n",
        "# @title String fields\n",
        "\n",
        "sun_angle = '30' # @param {type:\"string\"}\n",
        "timestamp = '2025-05-05 13:55:18+00:00' # @param {type:\"string\"}\n"
      ]
    },
    {
      "cell_type": "markdown",
      "metadata": {
        "id": "FhCH_NWX8Ihf"
      },
      "source": [
        "State your current position approximately here. A very rough estimate will be ok. You can even ignore this if you don't aim for high accuracy."
      ]
    },
    {
      "cell_type": "code",
      "execution_count": 54,
      "metadata": {
        "cellView": "form",
        "collapsed": true,
        "id": "2x5ly-vN8Adn"
      },
      "outputs": [],
      "source": [
        "dead_reckon_pos_lat = '45' # @param {type:\"string\"}\n",
        "dead_reckon_pos_lon = '0' # @param {type:\"string\"}\n",
        "\n",
        "the_map = None\n",
        "try:\n",
        "\n",
        "    Sight.set_estimated_position (LatLonGeodetic(float(dead_reckon_pos_lat),\n",
        "                                                 float(dead_reckon_pos_lon)))\n",
        "\n",
        "    a = Sight ( object_name          = \"Sun\",\n",
        "                set_time             = timestamp,\n",
        "                measured_alt         = sun_angle\n",
        "                )\n",
        "    the_map = Folium_Map ([a.get_gp().get_lat(), a.get_gp().get_lon()],zoom_start=2)\n",
        "    a.render_folium (the_map)\n",
        "except ValueError as ve:\n",
        "    print (str(ve))\n",
        "except KeyError as ke:\n",
        "    print (\"Key Error: The nautical almanac only covers 2024-2028.\")\n",
        "\n",
        "\n"
      ]
    },
    {
      "cell_type": "markdown",
      "metadata": {
        "id": "ApjKrRa19TH2"
      },
      "source": [
        "Below you see a map and **you are located somewhere on the drawn circle**. You can repeat this for other observations and then you will see these circles intersect at a common point, and this will reveal your **location**. This is [**Celestial Navigation**](https://en.wikipedia.org/wiki/Celestial_navigation)."
      ]
    },
    {
      "cell_type": "code",
      "execution_count": null,
      "metadata": {
        "cellView": "form",
        "colab": {
          "base_uri": "https://localhost:8080/",
          "height": 676
        },
        "id": "yMH6o6Wp9PJ4",
        "outputId": "76fb1b94-6502-43da-b9d1-31589cf416bb"
      },
      "outputs": [],
      "source": [
        "# @title\n",
        "the_map"
      ]
    },
    {
      "cell_type": "markdown",
      "metadata": {
        "id": "5YRgQs15_0b7"
      },
      "source": [
        "The maths used here is 100% based on the Earth being a sphere. You can read more about the maths [here](https://github.com/alinnman/celestial-navigation/blob/main/WORKFLOW.md).\n",
        "Actually this is very strong evidence for a spheric Earth and you can read about it [here](https://earthform.linnman.net/the-earth-is-a-sphere-and-it-can-easily-be-proved).\n",
        "\n",
        "A more complete celestial navigation notebook can be found [here](https://colab.research.google.com/drive/1bZt35-P6aiPlKWktyXgU3he6Di_N-PpA)."
      ]
    }
  ],
  "metadata": {
    "colab": {
      "provenance": []
    },
    "kernelspec": {
      "display_name": "base",
      "language": "python",
      "name": "python3"
    },
    "language_info": {
      "codemirror_mode": {
        "name": "ipython",
        "version": 3
      },
      "file_extension": ".py",
      "mimetype": "text/x-python",
      "name": "python",
      "nbconvert_exporter": "python",
      "pygments_lexer": "ipython3",
      "version": "3.11.11"
    }
  },
  "nbformat": 4,
  "nbformat_minor": 0
}
