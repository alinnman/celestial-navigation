{
 "cells": [
  {
   "cell_type": "markdown",
   "metadata": {},
   "source": [
    "This is a sample for celestial navigation for a stationary observer<br> \n",
    "© August Linnman, 2025, email: august@linnman.net<br>\n",
    "MIT License (see [LICENSE file](LICENSE))\n",
    "\n",
    "Jupyter notebook for ordinary three-fix celestial navigation (stationary).\n",
    "\n",
    "Run it once to create the input form. Used data will be saved for later sessions. "
   ]
  },
  {
   "cell_type": "code",
   "execution_count": 1,
   "metadata": {},
   "outputs": [],
   "source": [
    "# Importing Python libraries\n",
    "from time import time\n",
    "from starfix import Sight, SightCollection, get_representation, get_google_map_string,\\\n",
    "                    IntersectError, LatLonGeodetic"
   ]
  },
  {
   "cell_type": "code",
   "execution_count": null,
   "metadata": {},
   "outputs": [],
   "source": [
    "import notebook_helper\n",
    "from ipywidgets import VBox\n",
    "\n",
    "notebook_helper.initialize (\"notebook.1.json\",\n",
    "                {\"ObjectName1\" : \"Capella\",\n",
    "               \"Altitude1\" : \"33:9:34\",\n",
    "               \"Time1\" : \"2024-09-17 23:36:13+00:00\",\n",
    "               \"LimbCorrection1\" : \"0\",\n",
    "               \"IndexError1\" : \"0\",\n",
    "               \"ArtificialHorizon1\" : \"False\",\n",
    "               \"ObserverHeight1\" : \"0\",\n",
    "               \"Temperature1\" : \"10\",\n",
    "               \"TemperatureGradient1\" : \"-0.01\",\n",
    "               \"Pressure1\" : \"101\",\n",
    "               \n",
    "               \"ObjectName2\" : \"Moon\",\n",
    "               \"Altitude2\" : \"48:22:5.2\",\n",
    "               \"Time2\" : \"2024-09-17 23:41:13+00:00\",\n",
    "               \"LimbCorrection2\" : \"0\",\n",
    "               \"IndexError2\" : \"0\",\n",
    "               \"ArtificialHorizon2\" : \"False\",\n",
    "               \"ObserverHeight2\" : \"0\",\n",
    "               \"Temperature2\" : \"10\",\n",
    "               \"TemperatureGradient2\" : \"-0.01\",\n",
    "               \"Pressure2\" : \"101\",                                             \n",
    "               \n",
    "               \"ObjectName3\" : \"Vega\",\n",
    "               \"Altitude3\" : \"25:39:4\",\n",
    "               \"Time3\" : \"2024-09-17 23:46:13+00:00\",\n",
    "               \"LimbCorrection3\" : \"0\",\n",
    "               \"IndexError3\" : \"0\",\n",
    "               \"ArtificialHorizon3\" : \"False\",\n",
    "               \"ObserverHeight3\" : \"0\",               \n",
    "               \"Temperature3\" : \"10\",\n",
    "               \"TemperatureGradient3\" : \"-0.01\",                \n",
    "               \"Pressure3\" : \"101\",               \n",
    "\n",
    "               \"DrpLat\" : \"36\",\n",
    "               \"DrpLon\" : \"10\",\n",
    "               \n",
    "               \"Use1\" : \"True\",\n",
    "               \"Use2\" : \"True\",\n",
    "               \"Use3\" : \"True\"})\n",
    "\n",
    "\n",
    "w = notebook_helper.render_widget()\n",
    "VBox(w)"
   ]
  },
  {
   "cell_type": "code",
   "execution_count": null,
   "metadata": {},
   "outputs": [],
   "source": [
    "# SIGHT REDUCTION.\n",
    "the_map = notebook_helper.sight_reduction ()\n",
    "the_map"
   ]
  }
 ],
 "metadata": {
  "kernelspec": {
   "display_name": "base",
   "language": "python",
   "name": "python3"
  },
  "language_info": {
   "codemirror_mode": {
    "name": "ipython",
    "version": 3
   },
   "file_extension": ".py",
   "mimetype": "text/x-python",
   "name": "python",
   "nbconvert_exporter": "python",
   "pygments_lexer": "ipython3",
   "version": "3.11.11"
  }
 },
 "nbformat": 4,
 "nbformat_minor": 2
}
