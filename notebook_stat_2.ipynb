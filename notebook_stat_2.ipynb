{
 "cells": [
  {
   "cell_type": "code",
   "execution_count": 1,
   "metadata": {},
   "outputs": [],
   "source": [
    "''' This is a sample for celestial navigation for a stationary observer \n",
    "    © August Linnman, 2024, email: august@linnman.net\n",
    "    MIT License (see LICENSE file)\n",
    "\n",
    "    Jupyter notebook for ordinary three-fix celestial navigation (stationary). Moon parallax added. \n",
    "'''\n",
    "\n",
    "# Importing Python libraries\n",
    "from time import time\n",
    "from starfix import Sight, SightCollection, get_representation, get_google_map_string, IntersectError, LatLonGeodetic\n",
    "\n",
    "THE_POS = LatLonGeodetic (37, 10)"
   ]
  },
  {
   "cell_type": "code",
   "execution_count": 2,
   "metadata": {},
   "outputs": [],
   "source": [
    "# SIGHT NR 1. \n",
    "\n",
    "a = Sight (   object_name          = \"Capella\",\n",
    "              set_time             = \"2024-09-17 23:36:13+00:00\",\n",
    "              gha_time_0           = \"342:21.9\",\n",
    "              gha_time_1           = \"357:24.4\",\n",
    "              decl_time_0          = \"46:1.2\",\n",
    "              sha_diff             = \"280:22.3\",\n",
    "              measured_alt         = \"33:9:34\",\n",
    "              estimated_position   = THE_POS\n",
    "              )\n"
   ]
  },
  {
   "cell_type": "code",
   "execution_count": 3,
   "metadata": {},
   "outputs": [],
   "source": [
    "# SIGHT NR 2.\n",
    "\n",
    "b = Sight (   object_name          = \"Moon\",\n",
    "              set_time             = \"2024-09-17 23:41:13+00:00\",\n",
    "              gha_time_0           = \"347:55.7\",\n",
    "              gha_time_1           = \"2:24.6\",\n",
    "              decl_time_0          = \"-3:43.5\",\n",
    "              decl_time_1          = \"-3:25.3\",\n",
    "              horizontal_parallax  = 61.2,\n",
    "              measured_alt         = \"48:22:5.2\",\n",
    "              estimated_position   = THE_POS\n",
    "              )\n",
    "\n"
   ]
  },
  {
   "cell_type": "code",
   "execution_count": 4,
   "metadata": {},
   "outputs": [],
   "source": [
    "# SIGHT NR 3.\n",
    "\n",
    "c = Sight (   object_name          = \"Vega\",\n",
    "              set_time             = \"2024-09-17 23:46:13+00:00\",\n",
    "              gha_time_0           = \"342:21.9\",\n",
    "              gha_time_1           = \"357:24.4\",\n",
    "              decl_time_0          = \"38:48.6\",\n",
    "              sha_diff             = \"80:33.3\",\n",
    "              measured_alt         = \"25:39:4\",\n",
    "              estimated_position   = THE_POS\n",
    "              )\n"
   ]
  },
  {
   "cell_type": "code",
   "execution_count": 5,
   "metadata": {},
   "outputs": [
    {
     "name": "stdout",
     "output_type": "stream",
     "text": [
      "(Geocentric) (N 36°,51.4′;E 10°,15.6′)\n",
      "MD = https://www.mapdevelopers.com/draw-circle-tool.php?circles=%5B%5B6319030%2C46.208597%2C88.184016%2C%22%23AAAAAA%22%2C%22%23000000%22%2C0.4%5D%2C%5B4580750%2C-3.539853%2C2.123566%2C%22%23AAAAAA%22%2C%22%23000000%22%2C0.4%5D%2C%5B7157461%2C38.994556%2C-74.506262%2C%22%23AAAAAA%22%2C%22%23000000%22%2C0.4%5D%5D\n",
      "GM = (Geocentric) 36.8569,10.2595\n"
     ]
    }
   ],
   "source": [
    "# SIGHT REDUCTION \n",
    "\n",
    "collection = SightCollection ([a, b, c])\n",
    "\n",
    "try:\n",
    "    intersections, _, _ = collection.get_intersections (return_geodetic=True)    \n",
    "    print (get_representation(intersections,1))\n",
    "    print (\"MD = \" + collection.get_map_developers_string(geodetic=True))\n",
    "    print (\"GM = \" + get_google_map_string(intersections,4))\n",
    "except IntersectError as ve:\n",
    "    print (\"Cannot perform a sight reduction. Bad sight data.\\n\" + str(ve))\n",
    "    print (\"Check the circles! \" + collection.get_map_developers_string(geodetic=True))    "
   ]
  }
 ],
 "metadata": {
  "kernelspec": {
   "display_name": "base",
   "language": "python",
   "name": "python3"
  },
  "language_info": {
   "codemirror_mode": {
    "name": "ipython",
    "version": 3
   },
   "file_extension": ".py",
   "mimetype": "text/x-python",
   "name": "python",
   "nbconvert_exporter": "python",
   "pygments_lexer": "ipython3",
   "version": "3.11.9"
  }
 },
 "nbformat": 4,
 "nbformat_minor": 2
}
