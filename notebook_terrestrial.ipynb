{
 "cells": [
  {
   "cell_type": "code",
   "execution_count": 4,
   "metadata": {},
   "outputs": [],
   "source": [
    "''' This is a sample for celestial navigation for a stationary observer \n",
    "    © August Linnman, 2024, email: august@linnman.net\n",
    "    MIT License (see LICENSE file)\n",
    "\n",
    "    Jupyter notebook for terrestrial navigation. \n",
    "'''\n",
    "\n",
    "# Import Python libraries\n",
    "from time import time\n",
    "from starfix import get_terrestrial_position, LatLon,\\\n",
    "      get_google_map_string, deg_to_rad, EARTH_RADIUS"
   ]
  },
  {
   "cell_type": "code",
   "execution_count": 5,
   "metadata": {},
   "outputs": [],
   "source": [
    "# Geographical positions\n",
    "\n",
    "P1 = LatLon (58.739439, 17.865486)\n",
    "P2 = LatLon (58.594091, 17.467489)\n",
    "P3 = LatLon (58.60355 , 17.316041)\n",
    "\n",
    "ANGLE_1 = 20\n",
    "ANGLE_2 = 45"
   ]
  },
  {
   "cell_type": "code",
   "execution_count": 6,
   "metadata": {},
   "outputs": [
    {
     "name": "stdout",
     "output_type": "stream",
     "text": [
      "Your location 1 = 58.4367,17.5638\n",
      "Your location 2 = 58.5941,17.4675\n",
      "========================\n",
      "Centerpoint 1 = 58.4904,17.3669\n",
      "Radius 1 = 12.922525651975977\n",
      "Centerpoint 2 = 58.5634,17.8054\n",
      "Radius 2 = 19.890511201733418\n"
     ]
    }
   ],
   "source": [
    "# Sight Reduction. \n",
    "\n",
    "p, c1, c2, _, _  =\\\n",
    "      get_terrestrial_position (P3, P2, ANGLE_1, P2, P1, ANGLE_2)\n",
    "assert isinstance (p, tuple)\n",
    "print (\"Your location 1 = \" + get_google_map_string(p[0],4))\n",
    "print (\"Your location 2 = \" + get_google_map_string(p[1],4))\n",
    "\n",
    "\n",
    "print (\"========================\")\n",
    "print (\"Centerpoint 1 = \" + get_google_map_string (c1.latlon, 4))\n",
    "print (\"Radius 1 = \" + str(deg_to_rad(c1.angle)*EARTH_RADIUS))\n",
    "print (\"Centerpoint 2 = \" + get_google_map_string (c2.latlon, 4))\n",
    "print (\"Radius 2 = \" + str(deg_to_rad(c2.angle)*EARTH_RADIUS))\n"
   ]
  }
 ],
 "metadata": {
  "kernelspec": {
   "display_name": "base",
   "language": "python",
   "name": "python3"
  },
  "language_info": {
   "codemirror_mode": {
    "name": "ipython",
    "version": 3
   },
   "file_extension": ".py",
   "mimetype": "text/x-python",
   "name": "python",
   "nbconvert_exporter": "python",
   "pygments_lexer": "ipython3",
   "version": "3.11.9"
  }
 },
 "nbformat": 4,
 "nbformat_minor": 2
}
