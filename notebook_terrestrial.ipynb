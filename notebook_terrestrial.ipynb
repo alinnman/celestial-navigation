{
 "cells": [
  {
   "cell_type": "markdown",
   "metadata": {},
   "source": [
    "This is a sample for celestial navigation for a stationary observer <br>\n",
    "© August Linnman, 2025, email: august@linnman.net<br>\n",
    "MIT License (see [LICENSE file](LICENSE))\n",
    "\n",
    "Jupyter notebook for terrestrial navigation. "
   ]
  },
  {
   "cell_type": "code",
   "execution_count": 1,
   "metadata": {},
   "outputs": [],
   "source": [
    "# Import Python libraries\n",
    "from time import time\n",
    "from starfix import get_terrestrial_position, LatLonGeodetic,\\\n",
    "      get_google_map_string, deg_to_rad, EARTH_RADIUS"
   ]
  },
  {
   "cell_type": "code",
   "execution_count": 2,
   "metadata": {},
   "outputs": [],
   "source": [
    "# Geographical positions\n",
    "\n",
    "P1 = LatLonGeodetic (58.739439, 17.865486)\n",
    "P2 = LatLonGeodetic (58.594091, 17.467489)\n",
    "P3 = LatLonGeodetic (58.60355 , 17.316041)\n",
    "\n",
    "ANGLE_1 = 20\n",
    "ANGLE_2 = 45"
   ]
  },
  {
   "cell_type": "code",
   "execution_count": null,
   "metadata": {},
   "outputs": [],
   "source": [
    "# Sight Reduction. \n",
    "\n",
    "p, c1, c2, _, _  =\\\n",
    "      get_terrestrial_position (P3, P2, ANGLE_1, P2, P1, ANGLE_2)\n",
    "assert isinstance (p, tuple)\n",
    "print (\"Your location 1 = \" + get_google_map_string(p[0],4))\n",
    "print (\"Your location 2 = \" + get_google_map_string(p[1],4))\n",
    "\n",
    "\n",
    "print (\"========================\")\n",
    "print (\"Centerpoint 1 = \" + get_google_map_string (c1.get_latlon(), 4))\n",
    "print (\"Radius 1 = \" + str(deg_to_rad(c1.get_angle())*EARTH_RADIUS))\n",
    "print (\"Centerpoint 2 = \" + get_google_map_string (c2.get_latlon(), 4))\n",
    "print (\"Radius 2 = \" + str(deg_to_rad(c2.get_angle())*EARTH_RADIUS))\n"
   ]
  }
 ],
 "metadata": {
  "kernelspec": {
   "display_name": "base",
   "language": "python",
   "name": "python3"
  },
  "language_info": {
   "codemirror_mode": {
    "name": "ipython",
    "version": 3
   },
   "file_extension": ".py",
   "mimetype": "text/x-python",
   "name": "python",
   "nbconvert_exporter": "python",
   "pygments_lexer": "ipython3",
   "version": "3.11.11"
  }
 },
 "nbformat": 4,
 "nbformat_minor": 2
}
