{
 "cells": [
  {
   "cell_type": "markdown",
   "metadata": {},
   "source": [
    "This is a sample for celestial navigation for a stationary observer<br> \n",
    "© August Linnman, 2025, email: august@linnman.net<br>\n",
    "MIT License (see [LICENSE file](LICENSE))\n",
    "\n",
    "Jupyter notebook for ordinary three-fix celestial navigation (stationary).\n"
   ]
  },
  {
   "cell_type": "code",
   "execution_count": 1,
   "metadata": {},
   "outputs": [],
   "source": [
    "# Importing Python libraries\n",
    "from time import time\n",
    "from starfix import Sight, SightCollection, get_representation, get_google_map_string,\\\n",
    "                    IntersectError, LatLonGeodetic, Circle"
   ]
  },
  {
   "cell_type": "code",
   "execution_count": null,
   "metadata": {},
   "outputs": [],
   "source": [
    "# SIGHTS\n",
    "\n",
    "def get_starfixes (drp_pos : LatLonGeodetic) -> SightCollection :\n",
    "    ''' Returns a list of used star fixes (SightCollection) '''\n",
    "\n",
    "    a = Sight ( object_name          = \"Sun\",\n",
    "                set_time             = \"2024-05-05 15:55:18+00:00\",\n",
    "                measured_alt         = \"55:7:54.4\",\n",
    "                estimated_position   = drp_pos\n",
    "                )\n",
    "\n",
    "    b = Sight ( object_name          = \"Sun\",\n",
    "                set_time             = \"2024-05-05 23:01:19+00:00\",\n",
    "                measured_alt         = \"19:28:27.4\"\n",
    "                )\n",
    "\n",
    "    c = Sight ( object_name          = \"Vega\",\n",
    "                set_time             = \"2024-05-06 04:04:13+00:00\",\n",
    "                measured_alt         = \"30:16:15.7\"\n",
    "                )\n",
    "    return SightCollection ([a, b, c])\n"
   ]
  },
  {
   "cell_type": "code",
   "execution_count": null,
   "metadata": {},
   "outputs": [],
   "source": [
    "# SIGHT REDUCTION.\n",
    "\n",
    "the_pos = LatLonGeodetic (90, -40) # Rough DRP position\n",
    "\n",
    "intersections = None\n",
    "collection = None\n",
    "the_map = None\n",
    "try:\n",
    "    intersections, _, _, collection =\\\n",
    "            SightCollection.get_intersections_conv (return_geodetic=True,\n",
    "                                                    estimated_position=the_pos,\n",
    "                                                    get_starfixes=get_starfixes,\n",
    "                                                    assume_good_estimated_position=True)\n",
    "    \n",
    "    assert intersections is not None\n",
    "    assert collection is not None\n",
    "    print (get_representation(intersections,1))\n",
    "    assert isinstance (intersections, LatLonGeodetic)\n",
    "    print (\"Google Map Coordinate = \" + get_google_map_string(intersections,4))\n",
    "\n",
    "except IntersectError as ve:\n",
    "    print (\"Cannot perform a sight reduction. Bad sight data.\\n\" + str(ve))\n",
    "    if ve.coll_object is not None:\n",
    "        if isinstance (ve.coll_object, SightCollection):\n",
    "            collection = ve.coll_object\n",
    "\n",
    "if isinstance (intersections, tuple):\n",
    "    intersections = None\n",
    "\n",
    "if collection is not None:\n",
    "    the_map = collection.render_folium (intersections)\n",
    "the_map"
   ]
  },
  {
   "cell_type": "code",
   "execution_count": null,
   "metadata": {},
   "outputs": [],
   "source": []
  }
 ],
 "metadata": {
  "kernelspec": {
   "display_name": "base",
   "language": "python",
   "name": "python3"
  },
  "language_info": {
   "codemirror_mode": {
    "name": "ipython",
    "version": 3
   },
   "file_extension": ".py",
   "mimetype": "text/x-python",
   "name": "python",
   "nbconvert_exporter": "python",
   "pygments_lexer": "ipython3",
   "version": "3.11.11"
  }
 },
 "nbformat": 4,
 "nbformat_minor": 2
}
