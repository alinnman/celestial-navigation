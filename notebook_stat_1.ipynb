{
 "cells": [
  {
   "cell_type": "code",
   "execution_count": 1,
   "metadata": {},
   "outputs": [],
   "source": [
    "''' This is a sample for celestial navigation for a stationary observer \n",
    "    © August Linnman, 2025, email: august@linnman.net\n",
    "    MIT License (see LICENSE file)\n",
    "\n",
    "    Jupyter notebook for ordinary three-fix celestial navigation (stationary).\n",
    "'''\n",
    "\n",
    "# Importing Python libraries\n",
    "from time import time\n",
    "from starfix import Sight, SightCollection, get_representation, get_google_map_string,\\\n",
    "                    IntersectError, LatLonGeodetic\n"
   ]
  },
  {
   "cell_type": "code",
   "execution_count": 2,
   "metadata": {},
   "outputs": [],
   "source": [
    "# SIGHTS\n",
    "\n",
    "def get_starfixes (drp_pos : LatLonGeodetic) -> SightCollection :\n",
    "    ''' Returns a list of used star fixes (SightCollection) '''\n",
    "\n",
    "    a = Sight (   object_name          = \"Sun\",\n",
    "                set_time             = \"2024-05-05 15:55:18+00:00\",\n",
    "                gha_time_0           = \"45:50.4\",\n",
    "                gha_time_1           = \"60:50.4\",\n",
    "                decl_time_0          = \"16:30.6\",\n",
    "                decl_time_1          = \"16:31.3\",\n",
    "                measured_alt         = \"55:8:1.1\",\n",
    "                estimated_position   = drp_pos\n",
    "                )\n",
    "\n",
    "    b = Sight (   object_name          = \"Sun\",\n",
    "                set_time             = \"2024-05-05 23:01:19+00:00\",\n",
    "                gha_time_0           = \"165:50.8\",\n",
    "                gha_time_1           = \"180:50.8\",\n",
    "                decl_time_0          = \"16:36.2\",\n",
    "                decl_time_1          = \"16:36.9\",\n",
    "                measured_alt         = \"19:28:19\",\n",
    "                )\n",
    "\n",
    "    c = Sight (   object_name          = \"Vega\",\n",
    "                set_time             = \"2024-05-06 04:04:13+00:00\",\n",
    "                gha_time_0           = \"284:30.4\",\n",
    "                gha_time_1           = \"299:32.9\",\n",
    "                decl_time_0          = \"38:48.1\",\n",
    "                measured_alt         = \"30:16:23.7\",\n",
    "                sha_diff             = \"80:33.4\",\n",
    "                )\n",
    "    return SightCollection ([a, b, c])\n"
   ]
  },
  {
   "cell_type": "code",
   "execution_count": null,
   "metadata": {},
   "outputs": [
    {
     "name": "stdout",
     "output_type": "stream",
     "text": [
      "Cannot perform a sight reduction. Bad sight data.\n",
      "Bad sight data.\n",
      "Check the circles! https://www.mapdevelopers.com/draw-circle-tool.php?circles=%5B%5B3902602%2C16.624097%2C-59.665%2C%22%23AAAAAA%22%2C%22%23000000%22%2C0.4%5D%2C%5B7849715%2C16.707391%2C-166.175833%2C%22%23AAAAAA%22%2C%22%23000000%22%2C0.4%5D%2C%5B6641163%2C38.986211%2C-6.120428%2C%22%23AAAAAA%22%2C%22%23000000%22%2C0.4%5D%5D\n"
     ]
    },
    {
     "ename": "IntersectError",
     "evalue": "Bad sight data.",
     "output_type": "error",
     "traceback": [
      "\u001b[0;31m---------------------------------------------------------------------------\u001b[0m",
      "\u001b[0;31mIntersectError\u001b[0m                            Traceback (most recent call last)",
      "Cell \u001b[0;32mIn[3], line 17\u001b[0m\n\u001b[1;32m     14\u001b[0m         \u001b[38;5;28;01mif\u001b[39;00m \u001b[38;5;28misinstance\u001b[39m (ve\u001b[38;5;241m.\u001b[39mcoll_object, SightCollection):\n\u001b[1;32m     15\u001b[0m             \u001b[38;5;28mprint\u001b[39m (\u001b[38;5;124m\"\u001b[39m\u001b[38;5;124mCheck the circles! \u001b[39m\u001b[38;5;124m\"\u001b[39m \u001b[38;5;241m+\u001b[39m\n\u001b[1;32m     16\u001b[0m                     ve\u001b[38;5;241m.\u001b[39mcoll_object\u001b[38;5;241m.\u001b[39mget_map_developers_string(geodetic\u001b[38;5;241m=\u001b[39m\u001b[38;5;28;01mTrue\u001b[39;00m))\n\u001b[0;32m---> 17\u001b[0m     \u001b[38;5;28;01mraise\u001b[39;00m ve\n\u001b[1;32m     19\u001b[0m \u001b[38;5;28;01massert\u001b[39;00m intersections \u001b[38;5;129;01mis\u001b[39;00m \u001b[38;5;129;01mnot\u001b[39;00m \u001b[38;5;28;01mNone\u001b[39;00m\n\u001b[1;32m     20\u001b[0m \u001b[38;5;28;01massert\u001b[39;00m collection \u001b[38;5;129;01mis\u001b[39;00m \u001b[38;5;129;01mnot\u001b[39;00m \u001b[38;5;28;01mNone\u001b[39;00m\n",
      "Cell \u001b[0;32mIn[3], line 7\u001b[0m\n\u001b[1;32m      3\u001b[0m the_pos \u001b[38;5;241m=\u001b[39m LatLonGeodetic (\u001b[38;5;241m-\u001b[39m\u001b[38;5;241m40\u001b[39m, \u001b[38;5;241m90\u001b[39m) \u001b[38;5;66;03m# Rough DRP position\u001b[39;00m\n\u001b[1;32m      5\u001b[0m \u001b[38;5;28;01mtry\u001b[39;00m:\n\u001b[1;32m      6\u001b[0m     intersections, _, _, collection \u001b[38;5;241m=\u001b[39m\\\n\u001b[0;32m----> 7\u001b[0m             SightCollection\u001b[38;5;241m.\u001b[39mget_intersections_conv (return_geodetic\u001b[38;5;241m=\u001b[39m\u001b[38;5;28;01mTrue\u001b[39;00m,\n\u001b[1;32m      8\u001b[0m                                                     estimated_position\u001b[38;5;241m=\u001b[39mthe_pos,\n\u001b[1;32m      9\u001b[0m                                                     get_starfixes\u001b[38;5;241m=\u001b[39mget_starfixes,\n\u001b[1;32m     10\u001b[0m                                                     assume_good_estimated_position\u001b[38;5;241m=\u001b[39m\u001b[38;5;28;01mTrue\u001b[39;00m)\n\u001b[1;32m     11\u001b[0m \u001b[38;5;28;01mexcept\u001b[39;00m IntersectError \u001b[38;5;28;01mas\u001b[39;00m ve:\n\u001b[1;32m     12\u001b[0m     \u001b[38;5;28mprint\u001b[39m (\u001b[38;5;124m\"\u001b[39m\u001b[38;5;124mCannot perform a sight reduction. Bad sight data.\u001b[39m\u001b[38;5;130;01m\\n\u001b[39;00m\u001b[38;5;124m\"\u001b[39m \u001b[38;5;241m+\u001b[39m \u001b[38;5;28mstr\u001b[39m(ve))\n",
      "File \u001b[0;32m~/Dokument/work/coding/celestial-navigation/starfix.py:1774\u001b[0m, in \u001b[0;36mSightCollection.get_intersections_conv\u001b[0;34m(return_geodetic, estimated_position, get_starfixes, assume_good_estimated_position, limit, diagnostics, max_iter, dist_limit)\u001b[0m\n\u001b[1;32m   1771\u001b[0m \u001b[38;5;28;01massert\u001b[39;00m \u001b[38;5;28misinstance\u001b[39m (collection, SightCollection)\n\u001b[1;32m   1772\u001b[0m \u001b[38;5;66;03m#try:\u001b[39;00m\n\u001b[1;32m   1773\u001b[0m intersections, fitness, diag \u001b[38;5;241m=\u001b[39m\\\n\u001b[0;32m-> 1774\u001b[0m collection\u001b[38;5;241m.\u001b[39mget_intersections (return_geodetic\u001b[38;5;241m=\u001b[39mreturn_geodetic,\n\u001b[1;32m   1775\u001b[0m                               limit\u001b[38;5;241m=\u001b[39mlimit,\n\u001b[1;32m   1776\u001b[0m                               diagnostics\u001b[38;5;241m=\u001b[39mdiagnostics,\n\u001b[1;32m   1777\u001b[0m                               assume_good_estimated_position\u001b[38;5;241m=\u001b[39m\\\n\u001b[1;32m   1778\u001b[0m                               assume_good_estimated_position)\n\u001b[1;32m   1779\u001b[0m \u001b[38;5;66;03m#except IntersectError as ve:\u001b[39;00m\n\u001b[1;32m   1780\u001b[0m     \u001b[38;5;66;03m#print (\"Cannot perform a sight reduction. Bad sight data.\\n\" + str(ve))\u001b[39;00m\n\u001b[1;32m   1781\u001b[0m     \u001b[38;5;66;03m#print (\"Check the circles! \" + collection.get_map_developers_string(geodetic=True))\u001b[39;00m\n\u001b[1;32m   1782\u001b[0m \u001b[38;5;66;03m#    raise ve TODO Review\u001b[39;00m\n\u001b[1;32m   1783\u001b[0m \u001b[38;5;28;01massert\u001b[39;00m \u001b[38;5;28misinstance\u001b[39m (intersections, LatLon)\n",
      "File \u001b[0;32m~/Dokument/work/coding/celestial-navigation/starfix.py:1634\u001b[0m, in \u001b[0;36mSightCollection.get_intersections\u001b[0;34m(self, return_geodetic, limit, estimated_position, assume_good_estimated_position, diagnostics)\u001b[0m\n\u001b[1;32m   1631\u001b[0m nr_of_chosen_points \u001b[38;5;241m=\u001b[39m \u001b[38;5;28mlen\u001b[39m (chosen_points)\n\u001b[1;32m   1632\u001b[0m \u001b[38;5;28;01mif\u001b[39;00m nr_of_chosen_points \u001b[38;5;241m==\u001b[39m \u001b[38;5;241m0\u001b[39m:\n\u001b[1;32m   1633\u001b[0m     \u001b[38;5;66;03m# No points found. Bad star fixes. Throw exception.\u001b[39;00m\n\u001b[0;32m-> 1634\u001b[0m     \u001b[38;5;28;01mraise\u001b[39;00m IntersectError (\u001b[38;5;124m\"\u001b[39m\u001b[38;5;124mBad sight data.\u001b[39m\u001b[38;5;124m\"\u001b[39m, \u001b[38;5;28mself\u001b[39m)\n\u001b[1;32m   1636\u001b[0m \u001b[38;5;66;03m# Make sure the chosen points are nearby each other\u001b[39;00m\n\u001b[1;32m   1637\u001b[0m fine_sorting \u001b[38;5;241m=\u001b[39m \u001b[38;5;28;01mFalse\u001b[39;00m \u001b[38;5;66;03m# This code is disabled for now\u001b[39;00m\n",
      "\u001b[0;31mIntersectError\u001b[0m: Bad sight data."
     ]
    }
   ],
   "source": [
    "# SIGHT REDUCTION.\n",
    "\n",
    "the_pos = LatLonGeodetic (90, -40) # Rough DRP position\n",
    "\n",
    "try:\n",
    "    intersections, _, _, collection =\\\n",
    "            SightCollection.get_intersections_conv (return_geodetic=True,\n",
    "                                                    estimated_position=the_pos,\n",
    "                                                    get_starfixes=get_starfixes,\n",
    "                                                    assume_good_estimated_position=True)\n",
    "except IntersectError as ve:\n",
    "    print (\"Cannot perform a sight reduction. Bad sight data.\\n\" + str(ve))\n",
    "    if ve.coll_object is not None:\n",
    "        if isinstance (ve.coll_object, SightCollection):\n",
    "            print (\"Check the circles! \" +\n",
    "                    ve.coll_object.get_map_developers_string(geodetic=True))\n",
    "    raise ve\n",
    "\n",
    "assert intersections is not None\n",
    "assert collection is not None\n",
    "print (get_representation(intersections,1))\n",
    "assert isinstance (intersections, LatLonGeodetic)\n",
    "print (\"MD = \" + collection.get_map_developers_string(geodetic=True, viewpoint=intersections))\n",
    "print (\"GM = \" + get_google_map_string(intersections,4))"
   ]
  }
 ],
 "metadata": {
  "kernelspec": {
   "display_name": "base",
   "language": "python",
   "name": "python3"
  },
  "language_info": {
   "codemirror_mode": {
    "name": "ipython",
    "version": 3
   },
   "file_extension": ".py",
   "mimetype": "text/x-python",
   "name": "python",
   "nbconvert_exporter": "python",
   "pygments_lexer": "ipython3",
   "version": "3.11.11"
  }
 },
 "nbformat": 4,
 "nbformat_minor": 2
}
