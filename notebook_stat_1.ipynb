{
 "cells": [
  {
   "cell_type": "code",
   "execution_count": null,
   "metadata": {},
   "outputs": [],
   "source": [
    "''' This is a sample for celestial navigation for a stationary observer \n",
    "    © August Linnman, 2025, email: august@linnman.net\n",
    "    MIT License (see LICENSE file)\n",
    "\n",
    "    Jupyter notebook for ordinary three-fix celestial navigation (stationary).\n",
    "'''\n",
    "\n",
    "# Importing Python libraries\n",
    "from time import time\n",
    "from starfix import Sight, SightCollection, get_representation, get_google_map_string,\\\n",
    "                    IntersectError, LatLonGeodetic, Circle\n"
   ]
  },
  {
   "cell_type": "code",
   "execution_count": 2,
   "metadata": {},
   "outputs": [],
   "source": [
    "# SIGHTS\n",
    "\n",
    "def get_starfixes (drp_pos : LatLonGeodetic) -> SightCollection :\n",
    "    ''' Returns a list of used star fixes (SightCollection) '''\n",
    "\n",
    "    a = Sight (   object_name          = \"Sun\",\n",
    "                set_time             = \"2024-05-05 15:55:18+00:00\",\n",
    "                gha_time_0           = \"45:50.4\",\n",
    "                gha_time_1           = \"60:50.4\",\n",
    "                decl_time_0          = \"16:30.6\",\n",
    "                decl_time_1          = \"16:31.3\",\n",
    "                measured_alt         = \"55:8:1.1\",\n",
    "                estimated_position   = drp_pos\n",
    "                )\n",
    "\n",
    "    b = Sight (   object_name          = \"Sun\",\n",
    "                set_time             = \"2024-05-05 23:01:19+00:00\",\n",
    "                gha_time_0           = \"165:50.8\",\n",
    "                gha_time_1           = \"180:50.8\",\n",
    "                decl_time_0          = \"16:36.2\",\n",
    "                decl_time_1          = \"16:36.9\",\n",
    "                measured_alt         = \"19:28:19\",\n",
    "                )\n",
    "\n",
    "    c = Sight (   object_name          = \"Vega\",\n",
    "                set_time             = \"2024-05-06 04:04:13+00:00\",\n",
    "                gha_time_0           = \"284:30.4\",\n",
    "                gha_time_1           = \"299:32.9\",\n",
    "                decl_time_0          = \"38:48.1\",\n",
    "                measured_alt         = \"30:16:23.7\",\n",
    "                sha_diff             = \"80:33.4\",\n",
    "                )\n",
    "    return SightCollection ([a, b, c])\n"
   ]
  },
  {
   "cell_type": "code",
   "execution_count": null,
   "metadata": {},
   "outputs": [
    {
     "name": "stdout",
     "output_type": "stream",
     "text": [
      "(Geodetic) (N 41°,51.3′;W 87°,38.6′)\n",
      "MD = https://www.mapdevelopers.com/draw-circle-tool.php?circles=%5B%5B3873850%2C16.624097%2C-59.665%2C%22%23AAAAAA%22%2C%22%23000000%22%2C0.4%5D%2C%5B7849744%2C16.707391%2C-166.175833%2C%22%23AAAAAA%22%2C%22%23000000%22%2C0.4%5D%2C%5B6641831%2C38.986211%2C-6.120428%2C%22%23AAAAAA%22%2C%22%23000000%22%2C0.4%5D%5D\n",
      "GM = (Geodetic) 41.8553,-87.6427\n",
      "INT = https://www.mapdevelopers.com/draw-circle-tool.php?circles=%5B%5B1113%2C41.855256%2C-87.642748%2C%22%23AAAAAA%22%2C%22%23000000%22%2C0.4%5D%5D\n"
     ]
    }
   ],
   "source": [
    "# SIGHT REDUCTION.\n",
    "\n",
    "the_pos = LatLonGeodetic (90, -40) # Rough DRP position\n",
    "\n",
    "try:\n",
    "    intersections, _, _, collection =\\\n",
    "            SightCollection.get_intersections_conv (return_geodetic=True,\n",
    "                                                    estimated_position=the_pos,\n",
    "                                                    get_starfixes=get_starfixes,\n",
    "                                                    assume_good_estimated_position=True)\n",
    "except IntersectError as ve:\n",
    "    print (\"Cannot perform a sight reduction. Bad sight data.\\n\" + str(ve))\n",
    "    if ve.coll_object is not None:\n",
    "        if isinstance (ve.coll_object, SightCollection):\n",
    "            print (\"Check the circles! \" +\n",
    "                    ve.coll_object.get_map_developers_string(geodetic=True))\n",
    "    raise ve\n",
    "\n",
    "assert intersections is not None\n",
    "assert collection is not None\n",
    "print (get_representation(intersections,1))\n",
    "assert isinstance (intersections, LatLonGeodetic)\n",
    "print (\"MD = \" + collection.get_map_developers_string(geodetic=True, viewpoint=intersections))\n",
    "print (\"GM = \" + get_google_map_string(intersections,4))\n",
    "int_circle = Circle (intersections, 0.01)\n",
    "print (\"INT = \" + int_circle.get_map_developers_string(include_url_start=True))"
   ]
  }
 ],
 "metadata": {
  "kernelspec": {
   "display_name": "base",
   "language": "python",
   "name": "python3"
  },
  "language_info": {
   "codemirror_mode": {
    "name": "ipython",
    "version": 3
   },
   "file_extension": ".py",
   "mimetype": "text/x-python",
   "name": "python",
   "nbconvert_exporter": "python",
   "pygments_lexer": "ipython3",
   "version": "3.11.11"
  }
 },
 "nbformat": 4,
 "nbformat_minor": 2
}
