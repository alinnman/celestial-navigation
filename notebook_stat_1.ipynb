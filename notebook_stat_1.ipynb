{
 "cells": [
  {
   "cell_type": "code",
   "execution_count": 2,
   "metadata": {},
   "outputs": [
    {
     "name": "stdout",
     "output_type": "stream",
     "text": [
      "NISSE = -88\n"
     ]
    }
   ],
   "source": [
    "''' This is a sample for celestial navigation for a stationary observer \n",
    "    © August Linnman, 2024, email: august@linnman.net\n",
    "    MIT License (see LICENSE file)\n",
    "\n",
    "    Jupyter notebook for ordinary three-fix celestial navigation (stationary).\n",
    "'''\n",
    "\n",
    "# Importing Python libraries\n",
    "from time import time\n",
    "from starfix import Sight, SightCollection, get_representation, get_google_map_string,\\\n",
    "                    IntersectError, LatLonGeodetic\n",
    "\n",
    "THE_POS = LatLonGeodetic (42, -88)"
   ]
  },
  {
   "cell_type": "code",
   "execution_count": 3,
   "metadata": {},
   "outputs": [
    {
     "name": "stdout",
     "output_type": "stream",
     "text": [
      "The geodetic altitude is 55.1222855411949\n",
      "The geocentrical altitude is 55.23722714978169\n"
     ]
    }
   ],
   "source": [
    "# SIGHT NR 1. \n",
    "\n",
    "a = Sight (   object_name          = \"Sun\",\n",
    "              set_time             = \"2024-05-05 15:55:18+00:00\",\n",
    "              gha_time_0           = \"45:50.4\",\n",
    "              gha_time_1           = \"60:50.4\",\n",
    "              decl_time_0          = \"16:30.6\",\n",
    "              decl_time_1          = \"16:31.3\",\n",
    "              measured_alt         = \"55:8:1.8\",\n",
    "              estimated_position   = THE_POS\n",
    "              )\n",
    "\n",
    "\n"
   ]
  },
  {
   "cell_type": "code",
   "execution_count": 4,
   "metadata": {},
   "outputs": [
    {
     "name": "stdout",
     "output_type": "stream",
     "text": [
      "The geodetic altitude is 19.42536294619639\n",
      "The geocentrical altitude is 19.409098906284136\n"
     ]
    }
   ],
   "source": [
    "# SIGHT NR 2.\n",
    "\n",
    "b = Sight (   object_name          = \"Sun\",\n",
    "              set_time             = \"2024-05-05 23:01:19+00:00\",\n",
    "              gha_time_0           = \"165:50.8\",\n",
    "              gha_time_1           = \"180:50.8\",\n",
    "              decl_time_0          = \"16:36.2\",\n",
    "              decl_time_1          = \"16:36.9\",\n",
    "              measured_alt         = \"19:28:18\",\n",
    "              estimated_position   = THE_POS\n",
    "              )"
   ]
  },
  {
   "cell_type": "code",
   "execution_count": 5,
   "metadata": {},
   "outputs": [
    {
     "name": "stdout",
     "output_type": "stream",
     "text": [
      "The geodetic altitude is 30.245215908255815\n",
      "The geocentrical altitude is 30.15997502446538\n"
     ]
    }
   ],
   "source": [
    "# SIGHT NR 3. \n",
    "\n",
    "c = Sight (   object_name          = \"Vega\",\n",
    "              set_time             = \"2024-05-06 04:04:13+00:00\",\n",
    "              gha_time_0           = \"284:30.4\",\n",
    "              gha_time_1           = \"299:32.9\",\n",
    "              decl_time_0          = \"38:48.1\",\n",
    "              measured_alt         = \"30:16:24.6\",\n",
    "              sha_diff             = \"80:33.4\",\n",
    "              estimated_position   = THE_POS\n",
    "              )"
   ]
  },
  {
   "cell_type": "code",
   "execution_count": 6,
   "metadata": {},
   "outputs": [
    {
     "name": "stdout",
     "output_type": "stream",
     "text": [
      "KALLE ANKA ANKA\n",
      "KAJSA ANKA ANKA\n",
      "Chosen intersection = 41.8532,-87.6452\n",
      "Chosen intersection = 41.8557,-87.6426\n",
      "Chosen intersection = 41.8586,-87.6446\n",
      "(N 41°,51.3′;W 87°,38.6′)\n",
      "MD = https://www.mapdevelopers.com/draw-circle-tool.php?circles=%5B%5B3879316%2C16.624126%2C-59.665%2C%22%23AAAAAA%22%2C%22%23000000%22%2C0.4%5D%2C%5B7849750%2C16.707421%2C-166.175833%2C%22%23AAAAAA%22%2C%22%23000000%22%2C0.4%5D%2C%5B6646299%2C38.986263%2C-6.120428%2C%22%23AAAAAA%22%2C%22%23000000%22%2C0.4%5D%5D\n",
      "GM = 41.8558,-87.6433\n"
     ]
    }
   ],
   "source": [
    "# SIGHT REDUCTION.\n",
    "\n",
    "collection = SightCollection ([a, b, c])\n",
    "try:\n",
    "    intersections, _, _ = collection.get_intersections (return_geodetic=True)\n",
    "    print (get_representation(intersections,1))\n",
    "    print (\"MD = \" + collection.get_map_developers_string(geodetic=True))\n",
    "    print (\"GM = \" + get_google_map_string(intersections,4))    \n",
    "except IntersectError as ve:\n",
    "    print (\"Cannot perform a sight reduction. Bad sight data.\\n\" + str(ve))\n",
    "    print (\"Check the circles! \" + collection.get_map_developers_string(geodetic=True))    \n"
   ]
  }
 ],
 "metadata": {
  "kernelspec": {
   "display_name": "base",
   "language": "python",
   "name": "python3"
  },
  "language_info": {
   "codemirror_mode": {
    "name": "ipython",
    "version": 3
   },
   "file_extension": ".py",
   "mimetype": "text/x-python",
   "name": "python",
   "nbconvert_exporter": "python",
   "pygments_lexer": "ipython3",
   "version": "3.11.9"
  }
 },
 "nbformat": 4,
 "nbformat_minor": 2
}
