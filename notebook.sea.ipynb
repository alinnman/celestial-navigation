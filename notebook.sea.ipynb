{
 "cells": [
  {
   "cell_type": "code",
   "execution_count": 1,
   "metadata": {},
   "outputs": [],
   "source": [
    "# Importing Python libraries\n",
    "from time import time\n",
    "from starfix import Sight, SightTrip, get_representation, get_google_map_string, LatLon"
   ]
  },
  {
   "cell_type": "code",
   "execution_count": 2,
   "metadata": {},
   "outputs": [],
   "source": [
    "# Estimated (DR) position at start\n",
    "s1LatLon = LatLon (59, 18)\n",
    "# Estimated course and speed\n",
    "C_COURSE = 175\n",
    "SPEED = 20\n",
    "\n",
    "#This is the star fix for s1, the starting point\n",
    "\n",
    "s1 = Sight (  object_name          = \"Sun\", \\\n",
    "              time_year            = 2024, \\\n",
    "              time_month           = 6, \\\n",
    "              time_day             = 20, \\\n",
    "              time_hour            = 6, \\\n",
    "              time_minute          = 14, \\\n",
    "              time_second          = 38, \\\n",
    "              gha_time_0_degrees   = 269, \\\n",
    "              gha_time_0_minutes   = 35.2, \\\n",
    "              gha_time_1_degrees   = 284 , \\\n",
    "              gha_time_1_minutes   = 35.1, \\\n",
    "              decl_time_0_degrees  = 23, \\\n",
    "              decl_time_0_minutes  = 26.2, \\\n",
    "              decl_time_1_degrees  = 23, \\\n",
    "              decl_time_1_minutes  = 26.2, \\\n",
    "              measured_alt_degrees = 30, \\\n",
    "              measured_alt_minutes = 51, \\\n",
    "              measured_alt_seconds = 27.1 \\\n",
    "              )"
   ]
  },
  {
   "cell_type": "code",
   "execution_count": 3,
   "metadata": {},
   "outputs": [],
   "source": [
    "# Star fix for ending point\n",
    "\n",
    "s2 = Sight (  object_name          = \"Sun\", \\\n",
    "              time_year            = 2024, \\\n",
    "              time_month           = 6, \\\n",
    "              time_day             = 20, \\\n",
    "              time_hour            = 7, \\\n",
    "              time_minute          = 14, \\\n",
    "              time_second          = 38, \\\n",
    "              gha_time_0_degrees   = 284, \\\n",
    "              gha_time_0_minutes   = 35.1, \\\n",
    "              gha_time_1_degrees   = 299 , \\\n",
    "              gha_time_1_minutes   = 35.0, \\\n",
    "              decl_time_0_degrees  = 23, \\\n",
    "              decl_time_0_minutes  = 26.2, \\\n",
    "              decl_time_1_degrees  = 23, \\\n",
    "              decl_time_1_minutes  = 26.2, \\\n",
    "              measured_alt_degrees = 38, \\\n",
    "              measured_alt_minutes = 34, \\\n",
    "              measured_alt_seconds = 21.6 \\\n",
    "              )"
   ]
  },
  {
   "cell_type": "code",
   "execution_count": 4,
   "metadata": {},
   "outputs": [
    {
     "name": "stdout",
     "output_type": "stream",
     "text": [
      "MD = https://www.mapdevelopers.com/draw-circle-tool.php?circles=%5B%5B6581268%2C23.4367%2C86.7554%2C%22%23AAAAAA%22%2C%22%23000000%22%2C0.4%5D%2C%5B5722376%2C23.4367%2C71.7571%2C%22%23AAAAAA%22%2C%22%23000000%22%2C0.4%5D%5D\n",
      "Starting point = (N 58°,46.1′;E 18°,0.1′)\n",
      "End point = (N 58°,26.2′;E 18°,3.5′)\n"
     ]
    }
   ],
   "source": [
    "# Sight reduction\n",
    "\n",
    "st = SightTrip (sight_start               = s1,\\\n",
    "                 sight_end                = s2,\\\n",
    "                 estimated_starting_point = s1LatLon,\\\n",
    "                 course_degrees           = C_COURSE,\\\n",
    "                 speed_knots              = SPEED)\n",
    "try:\n",
    "    intersections, fitness, diag_output = st.get_intersections ()\n",
    "    print (\"MD = \" + st.get_map_developers_string ())\n",
    "    print (\"Starting point = \" + str(get_representation(intersections[1],1)))\n",
    "    print (\"End point = \" + str(get_representation(intersections[0],1)))\n",
    "except ValueError as ve:\n",
    "    print (\"Cannot perform a sight reduction. Bad sight data.\")"
   ]
  }
 ],
 "metadata": {
  "kernelspec": {
   "display_name": "base",
   "language": "python",
   "name": "python3"
  },
  "language_info": {
   "codemirror_mode": {
    "name": "ipython",
    "version": 3
   },
   "file_extension": ".py",
   "mimetype": "text/x-python",
   "name": "python",
   "nbconvert_exporter": "python",
   "pygments_lexer": "ipython3",
   "version": "3.11.9"
  }
 },
 "nbformat": 4,
 "nbformat_minor": 2
}
