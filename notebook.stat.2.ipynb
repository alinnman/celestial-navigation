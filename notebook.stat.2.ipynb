{
 "cells": [
  {
   "cell_type": "code",
   "execution_count": 13,
   "metadata": {},
   "outputs": [],
   "source": [
    "# Importing Python libraries\n",
    "from time import time\n",
    "from starfix import Sight, SightCollection, get_representation, get_google_map_string"
   ]
  },
  {
   "cell_type": "code",
   "execution_count": 14,
   "metadata": {},
   "outputs": [],
   "source": [
    "# Date and time\n",
    "YEAR = 2024\n",
    "MONTH = 9\n",
    "DAY = 17\n",
    "HOUR = 23\n",
    "MINUTE = 36\n",
    "SECOND = 13\n",
    "\n",
    "MINUTES_BETWEEN_SIGHTS = 5"
   ]
  },
  {
   "cell_type": "code",
   "execution_count": 15,
   "metadata": {},
   "outputs": [],
   "source": [
    "# SIGHT NR 1. \n",
    "\n",
    "a = Sight (   object_name          = \"Capella\", \\\n",
    "              time_year            = YEAR,\\\n",
    "              time_month           = MONTH,\\\n",
    "              time_day             = DAY,\\\n",
    "              time_hour            = HOUR, \\\n",
    "              time_minute          = MINUTE, \\\n",
    "              time_second          = SECOND, \\\n",
    "              gha_time_0_degrees   = 342, \\\n",
    "              gha_time_0_minutes   = 21.9, \\\n",
    "              gha_time_1_degrees   = 357, \\\n",
    "              gha_time_1_minutes   = 24.4, \\\n",
    "              decl_time_0_degrees  = 46, \\\n",
    "              decl_time_0_minutes  = 1.2, \\\n",
    "              sha_diff_degrees     = 280, \\\n",
    "              sha_diff_minutes     = 22.3, \\\n",
    "              measured_alt_degrees = 33, \\\n",
    "              measured_alt_minutes = 9, \\\n",
    "              measured_alt_seconds = 34 \\\n",
    "              )\n"
   ]
  },
  {
   "cell_type": "code",
   "execution_count": 16,
   "metadata": {},
   "outputs": [],
   "source": [
    "# SIGHT NR 2.\n",
    "\n",
    "b = Sight (   object_name          = \"Moon\", \\\n",
    "              time_year            = YEAR,\\\n",
    "              time_month           = MONTH,\\\n",
    "              time_day             = DAY,\\\n",
    "              time_hour            = HOUR, \\\n",
    "              time_minute          = MINUTE+MINUTES_BETWEEN_SIGHTS, \\\n",
    "              time_second          = SECOND, \\\n",
    "              gha_time_0_degrees   = 347, \\\n",
    "              gha_time_0_minutes   = 55.7, \\\n",
    "              gha_time_1_degrees   = 2, \\\n",
    "              gha_time_1_minutes   = 24.6, \\\n",
    "              decl_time_0_degrees  = -3, \\\n",
    "              decl_time_0_minutes  = 43.5, \\\n",
    "              decl_time_1_degrees  = -3, \\\n",
    "              decl_time_1_minutes  = 25.3, \\\n",
    "              horizontal_parallax  = 61.2, \\\n",
    "              measured_alt_degrees = 48, \\\n",
    "              measured_alt_minutes = 22, \\\n",
    "              measured_alt_seconds = 5.2 \\\n",
    "              )\n"
   ]
  },
  {
   "cell_type": "code",
   "execution_count": 17,
   "metadata": {},
   "outputs": [],
   "source": [
    "# SIGHT NR 3.\n",
    "\n",
    "c = Sight (   object_name          = \"Vega\", \\\n",
    "              time_year            = YEAR,\\\n",
    "              time_month           = MONTH,\\\n",
    "              time_day             = DAY,\\\n",
    "              time_hour            = HOUR, \\\n",
    "              time_minute          = MINUTE+MINUTES_BETWEEN_SIGHTS*2, \\\n",
    "              time_second          = SECOND, \\\n",
    "              gha_time_0_degrees   = 342, \\\n",
    "              gha_time_0_minutes   = 21.9, \\\n",
    "              gha_time_1_degrees   = 357, \\\n",
    "              gha_time_1_minutes   = 24.4, \\\n",
    "              decl_time_0_degrees  = 38, \\\n",
    "              decl_time_0_minutes  = 48.6, \\\n",
    "              sha_diff_degrees     = 80, \\\n",
    "              sha_diff_minutes     = 33.3, \\\n",
    "              measured_alt_degrees = 25, \\\n",
    "              measured_alt_minutes = 39, \\\n",
    "              measured_alt_seconds = 4, \\\n",
    "              )"
   ]
  },
  {
   "cell_type": "code",
   "execution_count": 18,
   "metadata": {},
   "outputs": [
    {
     "name": "stdout",
     "output_type": "stream",
     "text": [
      "(N 36°,45.0′;E 10°,13.4′)\n",
      "MD = https://www.mapdevelopers.com/draw-circle-tool.php?circles=%5B%5B6324974%2C46.02%2C88.184%2C%22%23AAAAAA%22%2C%22%23000000%22%2C0.4%5D%2C%5B4556787%2C-3.5166%2C2.1236%2C%22%23AAAAAA%22%2C%22%23000000%22%2C0.4%5D%2C%5B7161098%2C38.81%2C-74.5063%2C%22%23AAAAAA%22%2C%22%23000000%22%2C0.4%5D%5D\n",
      "GM = 36.7501,10.2233\n"
     ]
    }
   ],
   "source": [
    "# SIGHT REDUCTION \n",
    "\n",
    "collection = SightCollection ([a, b, c])\n",
    "\n",
    "try:\n",
    "    intersections, fitness, diag_output = collection.get_intersections ()    \n",
    "    print (get_representation(intersections,1))\n",
    "    print (\"MD = \" + collection.get_map_developers_string())\n",
    "    print (\"GM = \" + get_google_map_string(intersections,4))\n",
    "except ValueError as ve:\n",
    "    print (\"Cannot get perform a sight reduction. Bad sight data.\")"
   ]
  }
 ],
 "metadata": {
  "kernelspec": {
   "display_name": "base",
   "language": "python",
   "name": "python3"
  },
  "language_info": {
   "codemirror_mode": {
    "name": "ipython",
    "version": 3
   },
   "file_extension": ".py",
   "mimetype": "text/x-python",
   "name": "python",
   "nbconvert_exporter": "python",
   "pygments_lexer": "ipython3",
   "version": "3.11.9"
  }
 },
 "nbformat": 4,
 "nbformat_minor": 2
}
